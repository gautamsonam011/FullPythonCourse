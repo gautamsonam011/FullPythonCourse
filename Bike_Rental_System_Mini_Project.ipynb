{
 "cells": [
  {
   "cell_type": "markdown",
   "id": "50272ed0",
   "metadata": {},
   "source": [
    "# 1:- Display available bikes\n",
    "# 2:- Request a bike for rent (100 Rs->1qty)\n",
    "# 3:- Exit"
   ]
  },
  {
   "cell_type": "code",
   "execution_count": 2,
   "id": "f69e8448",
   "metadata": {},
   "outputs": [
    {
     "name": "stdout",
     "output_type": "stream",
     "text": [
      "\n",
      "    1 Display Stocks\n",
      "    2 Rent a Bike\n",
      "    3 Exit\n",
      "    1\n",
      "Total Bikes 100\n",
      "\n",
      "    1 Display Stocks\n",
      "    2 Rent a Bike\n",
      "    3 Exit\n",
      "    2\n",
      "Enter the qty:--3\n",
      "Total Prices 300\n",
      "Total Bikes 97\n",
      "\n",
      "    1 Display Stocks\n",
      "    2 Rent a Bike\n",
      "    3 Exit\n",
      "    1\n",
      "Total Bikes 100\n",
      "\n",
      "    1 Display Stocks\n",
      "    2 Rent a Bike\n",
      "    3 Exit\n",
      "    3\n"
     ]
    }
   ],
   "source": [
    "class bikeShop:\n",
    "    def __init__(self,stock):\n",
    "        self.stock = stock\n",
    "        \n",
    "    def displayBike(self):\n",
    "        print(\"Total Bikes\",self.stock)\n",
    "        \n",
    "    def rentForBike(self,q):\n",
    "        if q <= 0:\n",
    "            print(\"Enter the positive value or greater then zero\")\n",
    "            \n",
    "        elif q > self.stock:\n",
    "            print(\"Enter the value (less then stock)\")\n",
    "            \n",
    "        else:\n",
    "            self.stock = self.stock-q\n",
    "            print(\"Total Prices\",q*100)\n",
    "            print(\"Total Bikes\",self.stock)\n",
    "            \n",
    "while True:\n",
    "    obj = bikeShop(100)\n",
    "    userChoice = int(input(\"\"\"\n",
    "    1 Display Stocks\n",
    "    2 Rent a Bike\n",
    "    3 Exit\n",
    "    \"\"\"))\n",
    "    \n",
    "    if userChoice == 1:\n",
    "        obj.displayBike()\n",
    "    elif userChoice == 2:\n",
    "        n = int(input(\"Enter the qty:--\"))\n",
    "        obj.rentForBike(n)\n",
    "    else:\n",
    "        break     "
   ]
  },
  {
   "cell_type": "code",
   "execution_count": null,
   "id": "9f41f931",
   "metadata": {},
   "outputs": [],
   "source": []
  }
 ],
 "metadata": {
  "kernelspec": {
   "display_name": "Python 3 (ipykernel)",
   "language": "python",
   "name": "python3"
  },
  "language_info": {
   "codemirror_mode": {
    "name": "ipython",
    "version": 3
   },
   "file_extension": ".py",
   "mimetype": "text/x-python",
   "name": "python",
   "nbconvert_exporter": "python",
   "pygments_lexer": "ipython3",
   "version": "3.11.1"
  }
 },
 "nbformat": 4,
 "nbformat_minor": 5
}
