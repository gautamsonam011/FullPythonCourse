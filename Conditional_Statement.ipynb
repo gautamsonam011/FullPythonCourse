{
 "cells": [
  {
   "cell_type": "markdown",
   "id": "0f2b5a26",
   "metadata": {},
   "source": [
    "# If Statement:-"
   ]
  },
  {
   "cell_type": "code",
   "execution_count": 1,
   "id": "ae8193c2",
   "metadata": {},
   "outputs": [
    {
     "name": "stdout",
     "output_type": "stream",
     "text": [
      "Even Number\n"
     ]
    }
   ],
   "source": [
    "# Syntax\n",
    "# if[conditional expression]:\n",
    "#    [statement(s) to execute]\n",
    "\n",
    "a = 10\n",
    "if a%2 == 0:\n",
    "    print(\"Even Number\")"
   ]
  },
  {
   "cell_type": "code",
   "execution_count": 2,
   "id": "b2482c6d",
   "metadata": {},
   "outputs": [],
   "source": [
    "a = 10\n",
    "if a%3 == 0:\n",
    "    print(\"Even Number\")"
   ]
  },
  {
   "cell_type": "code",
   "execution_count": 4,
   "id": "b71152e3",
   "metadata": {},
   "outputs": [
    {
     "name": "stdout",
     "output_type": "stream",
     "text": [
      "Enter the value:13\n",
      "Odd Number\n"
     ]
    }
   ],
   "source": [
    "x = int(input(\"Enter the value:\"))\n",
    "if x%2 != 0:\n",
    "    print(\"Odd Number\")"
   ]
  },
  {
   "cell_type": "markdown",
   "id": "f9d5bd81",
   "metadata": {},
   "source": [
    "# If else statement"
   ]
  },
  {
   "cell_type": "code",
   "execution_count": 5,
   "id": "ba5930b1",
   "metadata": {},
   "outputs": [
    {
     "name": "stdout",
     "output_type": "stream",
     "text": [
      "even\n"
     ]
    }
   ],
   "source": [
    "# Syntax:-\n",
    "# if[conditional expression]:\n",
    "#        [statement to execute]\n",
    "#    else:\n",
    "#        [alternate statement to execute]\n",
    "\n",
    "a = 10\n",
    "if a%2 == 0:\n",
    "    print(\"even\")\n",
    "else:\n",
    "    print(\"Odd\")"
   ]
  },
  {
   "cell_type": "code",
   "execution_count": 7,
   "id": "423c4f01",
   "metadata": {},
   "outputs": [
    {
     "name": "stdout",
     "output_type": "stream",
     "text": [
      "X Greater number: 8\n"
     ]
    }
   ],
   "source": [
    "x = 8\n",
    "y = 5\n",
    "\n",
    "if x>y:\n",
    "    print(\"X Greater number:\",x)\n",
    "else:\n",
    "    print(\"Y Greater number:\",y)"
   ]
  },
  {
   "cell_type": "markdown",
   "id": "0cc87fe7",
   "metadata": {},
   "source": [
    "# if elif else statement"
   ]
  },
  {
   "cell_type": "code",
   "execution_count": 8,
   "id": "8c664cf1",
   "metadata": {},
   "outputs": [
    {
     "name": "stdout",
     "output_type": "stream",
     "text": [
      "Second Div\n"
     ]
    }
   ],
   "source": [
    "# Syntax:-\n",
    "# if[condition #1]:\n",
    "#    [statement-1]\n",
    "# elif[condition-2]:\n",
    "#    [statement-2]\n",
    "\n",
    "# else:\n",
    "#    [statement-3]\n",
    "\n",
    "per = 55\n",
    "if per >= 60:\n",
    "    print(\"First Div\")\n",
    "elif per >= 49:\n",
    "    print(\"Second Div\")\n",
    "elif per >= 35:\n",
    "    print(\"Third Div\")\n",
    "else:\n",
    "    print(\"Failed\")"
   ]
  },
  {
   "cell_type": "code",
   "execution_count": 9,
   "id": "e8e3fa9d",
   "metadata": {},
   "outputs": [
    {
     "name": "stdout",
     "output_type": "stream",
     "text": [
      "Y Greater than X,Z 62\n"
     ]
    }
   ],
   "source": [
    "x = 34\n",
    "y = 62\n",
    "z = 56\n",
    "\n",
    "if (x>y) and (x>z):\n",
    "    print(\"X Greater than Y,Z\",x)\n",
    "elif (y>x) and (y>z):\n",
    "    print(\"Y Greater than X,Z\",y)\n",
    "else:\n",
    "    print(\"Z Greater than X, Y\",z)"
   ]
  },
  {
   "cell_type": "markdown",
   "id": "aa2f8296",
   "metadata": {},
   "source": [
    "# Calculator"
   ]
  },
  {
   "cell_type": "code",
   "execution_count": 11,
   "id": "b90bf2d1",
   "metadata": {},
   "outputs": [
    {
     "name": "stdout",
     "output_type": "stream",
     "text": [
      "+ Add\n",
      "- Subtract\n",
      "* Multiply\n",
      "/ Divide\n",
      "Enter the number:14\n",
      "Enter the number:25\n",
      "Enter the operator+\n",
      "9\n"
     ]
    }
   ],
   "source": [
    "print('''+ Add\n",
    "- Subtract\n",
    "* Multiply\n",
    "/ Divide''')\n",
    "\n",
    "num1 = int(input(\"Enter the number:1\"))\n",
    "num2 = int(input(\"Enter the number:2\"))\n",
    "opr = (input(\"Enter the operator\"))\n",
    "\n",
    "if opr == \"+\":\n",
    "    print(num1+num2)\n",
    "elif opr == \"-\":\n",
    "    print(num1-num2)\n",
    "elif opr == \"*\":\n",
    "    print(num1*num2)\n",
    "elif opr == \"/\":\n",
    "    print(num1/num2)\n",
    "else:\n",
    "    print(\"Invalid Operator\")"
   ]
  },
  {
   "cell_type": "code",
   "execution_count": 15,
   "id": "6c167cef",
   "metadata": {},
   "outputs": [
    {
     "name": "stdout",
     "output_type": "stream",
     "text": [
      "+ Add\n",
      "- Subtract\n",
      "* Multiply\n",
      "/ Divide\n",
      "Enter the number:19\n",
      "Enter the number:26\n",
      "Enter the operator*\n",
      "54\n",
      "Invalid Operator\n"
     ]
    }
   ],
   "source": [
    "print('''+ Add\n",
    "- Subtract\n",
    "* Multiply\n",
    "/ Divide''')\n",
    "\n",
    "num1 = int(input(\"Enter the number:1\"))\n",
    "num2 = int(input(\"Enter the number:2\"))\n",
    "opr = (input(\"Enter the operator\"))\n",
    "\n",
    "if opr == \"+\":\n",
    "    print(num1+num2)\n",
    "if opr == \"-\":\n",
    "    print(num1-num2)\n",
    "if opr == \"*\":\n",
    "    print(num1*num2)\n",
    "if opr == \"/\":\n",
    "    print(num1/num2)\n",
    "else:\n",
    "    print(\"Invalid Operator\")"
   ]
  },
  {
   "cell_type": "code",
   "execution_count": null,
   "id": "5ddc7e31",
   "metadata": {},
   "outputs": [],
   "source": []
  }
 ],
 "metadata": {
  "kernelspec": {
   "display_name": "Python 3 (ipykernel)",
   "language": "python",
   "name": "python3"
  },
  "language_info": {
   "codemirror_mode": {
    "name": "ipython",
    "version": 3
   },
   "file_extension": ".py",
   "mimetype": "text/x-python",
   "name": "python",
   "nbconvert_exporter": "python",
   "pygments_lexer": "ipython3",
   "version": "3.11.1"
  }
 },
 "nbformat": 4,
 "nbformat_minor": 5
}
