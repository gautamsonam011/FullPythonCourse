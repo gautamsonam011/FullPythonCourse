{
 "cells": [
  {
   "cell_type": "markdown",
   "id": "daaf6fed",
   "metadata": {},
   "source": [
    "User define function\n",
    "\n",
    "simple function\n",
    "\n",
    "function with argument\n",
    "\n",
    "return type"
   ]
  },
  {
   "cell_type": "markdown",
   "id": "b02b806a",
   "metadata": {},
   "source": [
    "A function is a block of statements which can be used repetitively in a program. It saves the time of a developer. In python concept of function is same as in other languages.\n",
    "\n",
    "Creating a Function:-\n",
    "In python a function is defined using the def keyword"
   ]
  },
  {
   "cell_type": "code",
   "execution_count": 3,
   "id": "eabb86f6",
   "metadata": {},
   "outputs": [],
   "source": [
    "def simple():\n",
    "    print(\"Hello\")"
   ]
  },
  {
   "cell_type": "code",
   "execution_count": 4,
   "id": "0f00a9fa",
   "metadata": {},
   "outputs": [
    {
     "name": "stdout",
     "output_type": "stream",
     "text": [
      "Hello\n"
     ]
    }
   ],
   "source": [
    "simple()"
   ]
  },
  {
   "cell_type": "code",
   "execution_count": 5,
   "id": "ca99590d",
   "metadata": {},
   "outputs": [
    {
     "name": "stdout",
     "output_type": "stream",
     "text": [
      "Hello\n"
     ]
    }
   ],
   "source": [
    "simple()"
   ]
  },
  {
   "cell_type": "code",
   "execution_count": 6,
   "id": "68e63b66",
   "metadata": {},
   "outputs": [
    {
     "name": "stdout",
     "output_type": "stream",
     "text": [
      "9\n"
     ]
    }
   ],
   "source": [
    "def add():\n",
    "    a = 5\n",
    "    b = 4\n",
    "    c = a+b\n",
    "    print(c)\n",
    "add()"
   ]
  },
  {
   "cell_type": "code",
   "execution_count": 7,
   "id": "af5a69f6",
   "metadata": {},
   "outputs": [
    {
     "name": "stdout",
     "output_type": "stream",
     "text": [
      "9\n"
     ]
    }
   ],
   "source": [
    "add()"
   ]
  },
  {
   "cell_type": "code",
   "execution_count": 8,
   "id": "4cce56dd",
   "metadata": {},
   "outputs": [
    {
     "name": "stdout",
     "output_type": "stream",
     "text": [
      "10\n"
     ]
    }
   ],
   "source": [
    "# function with arguments--------------->\n",
    "\n",
    "def fun_with_arg(x,y):\n",
    "    print(x+y)\n",
    "fun_with_arg(4,6)"
   ]
  },
  {
   "cell_type": "code",
   "execution_count": 9,
   "id": "31775c88",
   "metadata": {},
   "outputs": [
    {
     "name": "stdout",
     "output_type": "stream",
     "text": [
      "57\n"
     ]
    }
   ],
   "source": [
    "fun_with_arg(23,34)"
   ]
  },
  {
   "cell_type": "code",
   "execution_count": 10,
   "id": "1eb4d0ff",
   "metadata": {},
   "outputs": [
    {
     "name": "stdout",
     "output_type": "stream",
     "text": [
      "Even\n"
     ]
    }
   ],
   "source": [
    "def even(x):\n",
    "    if x%2 ==0:\n",
    "        print(\"Even\")\n",
    "even(40)"
   ]
  },
  {
   "cell_type": "code",
   "execution_count": 11,
   "id": "701cb54f",
   "metadata": {},
   "outputs": [
    {
     "name": "stdout",
     "output_type": "stream",
     "text": [
      "Even\n"
     ]
    }
   ],
   "source": [
    "even(24)"
   ]
  },
  {
   "cell_type": "code",
   "execution_count": 12,
   "id": "453e80ec",
   "metadata": {},
   "outputs": [],
   "source": [
    "even(13)"
   ]
  },
  {
   "cell_type": "code",
   "execution_count": 13,
   "id": "e9c4c432",
   "metadata": {},
   "outputs": [
    {
     "name": "stdout",
     "output_type": "stream",
     "text": [
      "8\n"
     ]
    }
   ],
   "source": [
    "def sum(a,b = 8):\n",
    "    print(a+b)\n",
    "sum(3,5)"
   ]
  },
  {
   "cell_type": "code",
   "execution_count": 14,
   "id": "42e9c569",
   "metadata": {},
   "outputs": [
    {
     "name": "stdout",
     "output_type": "stream",
     "text": [
      "11\n"
     ]
    }
   ],
   "source": [
    "sum(3,)"
   ]
  },
  {
   "cell_type": "code",
   "execution_count": 16,
   "id": "9ef88e68",
   "metadata": {},
   "outputs": [
    {
     "name": "stdout",
     "output_type": "stream",
     "text": [
      "8\n"
     ]
    }
   ],
   "source": [
    "def sumb(a=5,b = 8):\n",
    "    print(a+b)\n",
    "sumb(3,5)"
   ]
  },
  {
   "cell_type": "code",
   "execution_count": 17,
   "id": "05a83bf0",
   "metadata": {},
   "outputs": [
    {
     "name": "stdout",
     "output_type": "stream",
     "text": [
      "12\n"
     ]
    }
   ],
   "source": [
    "sumb(4,)"
   ]
  },
  {
   "cell_type": "code",
   "execution_count": 18,
   "id": "62a0dcc9",
   "metadata": {},
   "outputs": [
    {
     "ename": "SyntaxError",
     "evalue": "invalid syntax (3283569592.py, line 1)",
     "output_type": "error",
     "traceback": [
      "\u001b[1;36m  Cell \u001b[1;32mIn[18], line 1\u001b[1;36m\u001b[0m\n\u001b[1;33m    sumb(,2)\u001b[0m\n\u001b[1;37m         ^\u001b[0m\n\u001b[1;31mSyntaxError\u001b[0m\u001b[1;31m:\u001b[0m invalid syntax\n"
     ]
    }
   ],
   "source": [
    "sumb(,2)"
   ]
  },
  {
   "cell_type": "code",
   "execution_count": 19,
   "id": "7932dcce",
   "metadata": {},
   "outputs": [
    {
     "data": {
      "text/plain": [
       "7"
      ]
     },
     "execution_count": 19,
     "metadata": {},
     "output_type": "execute_result"
    }
   ],
   "source": [
    "# return type function:------------------->\n",
    "\n",
    "def ret(a,b):\n",
    "    c = a+b\n",
    "    return c\n",
    "ret(4,3)"
   ]
  },
  {
   "cell_type": "code",
   "execution_count": 20,
   "id": "01f107bb",
   "metadata": {},
   "outputs": [
    {
     "data": {
      "text/plain": [
       "5"
      ]
     },
     "execution_count": 20,
     "metadata": {},
     "output_type": "execute_result"
    }
   ],
   "source": [
    "ret(3,2)"
   ]
  },
  {
   "cell_type": "code",
   "execution_count": 24,
   "id": "999404f6",
   "metadata": {},
   "outputs": [
    {
     "ename": "SyntaxError",
     "evalue": "non-default argument follows default argument (1541277286.py, line 1)",
     "output_type": "error",
     "traceback": [
      "\u001b[1;36m  Cell \u001b[1;32mIn[24], line 1\u001b[1;36m\u001b[0m\n\u001b[1;33m    def ret(a=34,b):\u001b[0m\n\u001b[1;37m                 ^\u001b[0m\n\u001b[1;31mSyntaxError\u001b[0m\u001b[1;31m:\u001b[0m non-default argument follows default argument\n"
     ]
    }
   ],
   "source": [
    "def ret(a=34,b):\n",
    "    c = a+b\n",
    "    return(c)\n",
    "ret(,4)"
   ]
  },
  {
   "cell_type": "code",
   "execution_count": 25,
   "id": "aac669ca",
   "metadata": {},
   "outputs": [
    {
     "data": {
      "text/plain": [
       "90"
      ]
     },
     "execution_count": 25,
     "metadata": {},
     "output_type": "execute_result"
    }
   ],
   "source": [
    "ret(34,56)"
   ]
  },
  {
   "cell_type": "code",
   "execution_count": 26,
   "id": "3065edab",
   "metadata": {},
   "outputs": [
    {
     "name": "stdout",
     "output_type": "stream",
     "text": [
      "45\n"
     ]
    }
   ],
   "source": [
    "# 1:- no argument no return\n",
    "# 2:- no argument with return\n",
    "# 3:- with argument no return\n",
    "# 4:- with argument with return\n",
    "\n",
    "# 1:-\n",
    "\n",
    "def fun():\n",
    "    a= 45\n",
    "    print(a)\n",
    "fun()"
   ]
  },
  {
   "cell_type": "code",
   "execution_count": 27,
   "id": "92dfc24f",
   "metadata": {},
   "outputs": [
    {
     "data": {
      "text/plain": [
       "6"
      ]
     },
     "execution_count": 27,
     "metadata": {},
     "output_type": "execute_result"
    }
   ],
   "source": [
    "# 2:-\n",
    "\n",
    "def func():\n",
    "    a=2\n",
    "    b=4\n",
    "    c= a+b\n",
    "    return c\n",
    "func()"
   ]
  },
  {
   "cell_type": "code",
   "execution_count": 28,
   "id": "3f41b2b7",
   "metadata": {},
   "outputs": [
    {
     "name": "stdout",
     "output_type": "stream",
     "text": [
      "5\n"
     ]
    }
   ],
   "source": [
    "# 3:-\n",
    "\n",
    "def fun(a,b):\n",
    "    print(a+b)\n",
    "fun(3,2)"
   ]
  },
  {
   "cell_type": "code",
   "execution_count": null,
   "id": "a7cf093f",
   "metadata": {},
   "outputs": [],
   "source": [
    "# 4:-\n",
    "\n",
    "def func(a,b):\n",
    "    "
   ]
  }
 ],
 "metadata": {
  "kernelspec": {
   "display_name": "Python 3 (ipykernel)",
   "language": "python",
   "name": "python3"
  },
  "language_info": {
   "codemirror_mode": {
    "name": "ipython",
    "version": 3
   },
   "file_extension": ".py",
   "mimetype": "text/x-python",
   "name": "python",
   "nbconvert_exporter": "python",
   "pygments_lexer": "ipython3",
   "version": "3.11.1"
  }
 },
 "nbformat": 4,
 "nbformat_minor": 5
}
