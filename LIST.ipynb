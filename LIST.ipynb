{
 "cells": [
  {
   "cell_type": "code",
   "execution_count": 1,
   "id": "9a5aa7ee",
   "metadata": {},
   "outputs": [
    {
     "name": "stdout",
     "output_type": "stream",
     "text": [
      "[1, 3, 4, 6, 8, 9]\n"
     ]
    },
    {
     "data": {
      "text/plain": [
       "list"
      ]
     },
     "execution_count": 1,
     "metadata": {},
     "output_type": "execute_result"
    }
   ],
   "source": [
    "list = [1,3,4,6,8,9]\n",
    "#index  0 1 2 3 4 5 \n",
    "    \n",
    "print(list)\n",
    "type(list)"
   ]
  },
  {
   "cell_type": "code",
   "execution_count": 2,
   "id": "1af63fa1",
   "metadata": {},
   "outputs": [
    {
     "name": "stdout",
     "output_type": "stream",
     "text": [
      "6\n"
     ]
    }
   ],
   "source": [
    "print(list[3])"
   ]
  },
  {
   "cell_type": "code",
   "execution_count": 3,
   "id": "c2bd4975",
   "metadata": {},
   "outputs": [
    {
     "name": "stdout",
     "output_type": "stream",
     "text": [
      "56\n"
     ]
    }
   ],
   "source": [
    "list = [1,3,4,6,8,9,[3,56,78]]\n",
    "print(list[6][1])"
   ]
  },
  {
   "cell_type": "code",
   "execution_count": 4,
   "id": "27f7ea8b",
   "metadata": {},
   "outputs": [
    {
     "name": "stdout",
     "output_type": "stream",
     "text": [
      "[1, 3, 4, 6]\n"
     ]
    }
   ],
   "source": [
    "print(list[0:4])"
   ]
  },
  {
   "cell_type": "code",
   "execution_count": 5,
   "id": "2d226342",
   "metadata": {},
   "outputs": [
    {
     "name": "stdout",
     "output_type": "stream",
     "text": [
      "[1, 3, 4, 6, 8, 9, [3, 56, 78]]\n"
     ]
    }
   ],
   "source": [
    "print(list[0:])"
   ]
  },
  {
   "cell_type": "code",
   "execution_count": 6,
   "id": "61ce73a4",
   "metadata": {},
   "outputs": [
    {
     "name": "stdout",
     "output_type": "stream",
     "text": [
      "[1, 3, 4, 6, 8]\n"
     ]
    }
   ],
   "source": [
    "print(list[:5])"
   ]
  },
  {
   "cell_type": "code",
   "execution_count": 8,
   "id": "0bce757c",
   "metadata": {},
   "outputs": [
    {
     "name": "stdout",
     "output_type": "stream",
     "text": [
      "[1, 4, 8, [3, 56, 78]]\n"
     ]
    }
   ],
   "source": [
    "print(list[0::2])"
   ]
  },
  {
   "cell_type": "code",
   "execution_count": 9,
   "id": "c6b1e616",
   "metadata": {},
   "outputs": [
    {
     "name": "stdout",
     "output_type": "stream",
     "text": [
      "[[3, 56, 78], 9, 8, 6, 4, 3, 1]\n"
     ]
    }
   ],
   "source": [
    "print(list[-1::-1])"
   ]
  },
  {
   "cell_type": "code",
   "execution_count": 10,
   "id": "96d9cf30",
   "metadata": {},
   "outputs": [
    {
     "name": "stdout",
     "output_type": "stream",
     "text": [
      "[1, 3, 4, 6, 8, 9, [3, 56, 78]]\n"
     ]
    }
   ],
   "source": [
    "print(list[-1::-1][-1::-1])"
   ]
  },
  {
   "cell_type": "markdown",
   "id": "1c1cbbe7",
   "metadata": {},
   "source": [
    "# List Iteration Enumerate"
   ]
  },
  {
   "cell_type": "code",
   "execution_count": 12,
   "id": "f8c0160a",
   "metadata": {},
   "outputs": [
    {
     "name": "stdout",
     "output_type": "stream",
     "text": [
      "3\n",
      "4\n",
      "5\n",
      "7\n",
      "python\n",
      "True\n",
      "False\n",
      "-45\n",
      "5.67\n"
     ]
    }
   ],
   "source": [
    "l = [3,4,5,7,\"python\",True,False,-45,5.67]\n",
    "le = len(l)\n",
    "for i in range(le):\n",
    "    print(l[i])"
   ]
  },
  {
   "cell_type": "code",
   "execution_count": 14,
   "id": "a3020ad5",
   "metadata": {},
   "outputs": [
    {
     "name": "stdout",
     "output_type": "stream",
     "text": [
      "5.67\n",
      "-45\n",
      "False\n",
      "True\n",
      "python\n",
      "7\n",
      "5\n",
      "4\n",
      "3\n"
     ]
    }
   ],
   "source": [
    "# for reverse----------------->\n",
    "\n",
    "l = [3,4,5,7,\"python\",True,False,-45,5.67]\n",
    "le = len(l)\n",
    "for i in range(le-1,-1,-1):\n",
    "    print(l[i])"
   ]
  },
  {
   "cell_type": "code",
   "execution_count": 15,
   "id": "e803d978",
   "metadata": {},
   "outputs": [
    {
     "name": "stdout",
     "output_type": "stream",
     "text": [
      "23\n",
      "45\n",
      "87\n",
      "57\n",
      "45\n"
     ]
    }
   ],
   "source": [
    "list = [23,45,87,57,45]\n",
    "for i in list:\n",
    "    print(i)"
   ]
  },
  {
   "cell_type": "code",
   "execution_count": 17,
   "id": "c3bf8db6",
   "metadata": {},
   "outputs": [
    {
     "name": "stdout",
     "output_type": "stream",
     "text": [
      "45\n",
      "57\n",
      "87\n",
      "45\n",
      "23\n"
     ]
    }
   ],
   "source": [
    "list = [23,45,87,57,45]\n",
    "l = len(list)\n",
    "for i in range(l-1,-1,-1):\n",
    "    print(list[i])"
   ]
  },
  {
   "cell_type": "markdown",
   "id": "71be767a",
   "metadata": {},
   "source": [
    "# List Comprehension"
   ]
  },
  {
   "cell_type": "code",
   "execution_count": 18,
   "id": "cd825b83",
   "metadata": {},
   "outputs": [
    {
     "name": "stdout",
     "output_type": "stream",
     "text": [
      "1\n",
      "3\n",
      "5\n",
      "7\n",
      "9\n"
     ]
    }
   ],
   "source": [
    "# Syntax:-             \n",
    "# [expression for item in list]\n",
    "\n",
    "list = []\n",
    "for i in range(1,10,2):\n",
    "    print(i)"
   ]
  },
  {
   "cell_type": "code",
   "execution_count": 19,
   "id": "df6ff4fd",
   "metadata": {},
   "outputs": [
    {
     "name": "stdout",
     "output_type": "stream",
     "text": [
      "[1, 3, 5, 7, 9]\n"
     ]
    }
   ],
   "source": [
    "list = []\n",
    "for i in range(1,10,2):\n",
    "    list.append(i)\n",
    "print(list)"
   ]
  },
  {
   "cell_type": "code",
   "execution_count": 20,
   "id": "b271a79e",
   "metadata": {},
   "outputs": [
    {
     "name": "stdout",
     "output_type": "stream",
     "text": [
      "[1, 3, 5, 7, 9]\n"
     ]
    }
   ],
   "source": [
    "n = [i for i in range(1,10,2)]\n",
    "print(n)"
   ]
  },
  {
   "cell_type": "code",
   "execution_count": 22,
   "id": "c8e24c6a",
   "metadata": {},
   "outputs": [
    {
     "name": "stdout",
     "output_type": "stream",
     "text": [
      "[2, 4, 6, 8]\n"
     ]
    }
   ],
   "source": [
    "n = [i for i in range(1,10) if i%2 == 0]\n",
    "print(n)"
   ]
  },
  {
   "cell_type": "code",
   "execution_count": 28,
   "id": "b10c13f5",
   "metadata": {},
   "outputs": [
    {
     "name": "stdout",
     "output_type": "stream",
     "text": [
      "[None, None, None, None, None, None, None, None, None]\n"
     ]
    }
   ],
   "source": [
    "l = []\n",
    "n = [l.append(i) for i in range(1,10)]\n",
    "print(n)"
   ]
  },
  {
   "cell_type": "markdown",
   "id": "f2a2fb04",
   "metadata": {},
   "source": [
    "# List Function"
   ]
  },
  {
   "cell_type": "code",
   "execution_count": 29,
   "id": "d698896a",
   "metadata": {},
   "outputs": [
    {
     "name": "stdout",
     "output_type": "stream",
     "text": [
      "[45, 56, 84, 24, 'python']\n"
     ]
    }
   ],
   "source": [
    "# Function for Delete Element:------------->\n",
    "\n",
    "# del()\n",
    "\n",
    "l = [45,56,84,24,\"python\"]\n",
    "print(l)"
   ]
  },
  {
   "cell_type": "code",
   "execution_count": 30,
   "id": "855943be",
   "metadata": {},
   "outputs": [
    {
     "name": "stdout",
     "output_type": "stream",
     "text": [
      "[45, 56, 24, 'python']\n"
     ]
    }
   ],
   "source": [
    "del l[2]\n",
    "print(l)"
   ]
  },
  {
   "cell_type": "code",
   "execution_count": 31,
   "id": "f73b26cc",
   "metadata": {},
   "outputs": [
    {
     "name": "stdout",
     "output_type": "stream",
     "text": [
      "[45, 56, 24]\n"
     ]
    }
   ],
   "source": [
    "# pop()\n",
    "l.pop(3)\n",
    "print(l)"
   ]
  },
  {
   "cell_type": "code",
   "execution_count": 32,
   "id": "c2098023",
   "metadata": {},
   "outputs": [
    {
     "name": "stdout",
     "output_type": "stream",
     "text": [
      "56\n"
     ]
    }
   ],
   "source": [
    "print(l.pop(1))"
   ]
  },
  {
   "cell_type": "code",
   "execution_count": 33,
   "id": "6b91df2e",
   "metadata": {},
   "outputs": [
    {
     "name": "stdout",
     "output_type": "stream",
     "text": [
      "[45, 56, 84, 'python']\n"
     ]
    }
   ],
   "source": [
    "# remove()\n",
    "l = [45,56,84,24,\"python\"]\n",
    "l.remove(24)\n",
    "print(l)"
   ]
  },
  {
   "cell_type": "code",
   "execution_count": 34,
   "id": "189fadbc",
   "metadata": {},
   "outputs": [
    {
     "name": "stdout",
     "output_type": "stream",
     "text": [
      "[]\n"
     ]
    }
   ],
   "source": [
    "# clear()\n",
    "\n",
    "l.clear()\n",
    "print(l)"
   ]
  },
  {
   "cell_type": "code",
   "execution_count": 35,
   "id": "40c156cb",
   "metadata": {},
   "outputs": [
    {
     "name": "stdout",
     "output_type": "stream",
     "text": [
      "[56, 100, 78, True, -35]\n"
     ]
    }
   ],
   "source": [
    "# update()\n",
    "\n",
    "l = [56,34,78,True,-35]\n",
    "l[1] = 100\n",
    "print(l)"
   ]
  },
  {
   "cell_type": "code",
   "execution_count": 36,
   "id": "e2c7bac6",
   "metadata": {},
   "outputs": [
    {
     "ename": "AttributeError",
     "evalue": "'list' object has no attribute 'update'",
     "output_type": "error",
     "traceback": [
      "\u001b[1;31m---------------------------------------------------------------------------\u001b[0m",
      "\u001b[1;31mAttributeError\u001b[0m                            Traceback (most recent call last)",
      "Cell \u001b[1;32mIn[36], line 1\u001b[0m\n\u001b[1;32m----> 1\u001b[0m \u001b[43ml\u001b[49m\u001b[38;5;241;43m.\u001b[39;49m\u001b[43mupdate\u001b[49m(\u001b[38;5;124m'\u001b[39m\u001b[38;5;124mpython\u001b[39m\u001b[38;5;124m'\u001b[39m)\n\u001b[0;32m      2\u001b[0m \u001b[38;5;28mprint\u001b[39m(l)\n",
      "\u001b[1;31mAttributeError\u001b[0m: 'list' object has no attribute 'update'"
     ]
    }
   ],
   "source": [
    "l.update('python')\n",
    "print(l)"
   ]
  },
  {
   "cell_type": "code",
   "execution_count": 37,
   "id": "1941cb8f",
   "metadata": {},
   "outputs": [
    {
     "name": "stdout",
     "output_type": "stream",
     "text": [
      "[478, 56, 100, 78, True, -35]\n"
     ]
    }
   ],
   "source": [
    "# insert()\n",
    "\n",
    "l.insert(0,478)\n",
    "print(l)"
   ]
  },
  {
   "cell_type": "code",
   "execution_count": 38,
   "id": "90a8f7c4",
   "metadata": {},
   "outputs": [
    {
     "name": "stdout",
     "output_type": "stream",
     "text": [
      "[478, 56, 100, 78, True, -35, 'python']\n"
     ]
    }
   ],
   "source": [
    "# append()\n",
    "\n",
    "l.append('python')\n",
    "print(l)"
   ]
  },
  {
   "cell_type": "code",
   "execution_count": 39,
   "id": "4e3165d6",
   "metadata": {},
   "outputs": [
    {
     "name": "stdout",
     "output_type": "stream",
     "text": [
      "[478, 56, 100, 78, True, -35, 'python', 30, 10]\n"
     ]
    }
   ],
   "source": [
    "# extends()\n",
    "n = [30,10]\n",
    "l.extend(n)\n",
    "print(l)"
   ]
  },
  {
   "cell_type": "code",
   "execution_count": 40,
   "id": "97c953a5",
   "metadata": {},
   "outputs": [
    {
     "name": "stdout",
     "output_type": "stream",
     "text": [
      "1\n"
     ]
    }
   ],
   "source": [
    "# count()\n",
    "# max()\n",
    "# min()\n",
    "# sort()\n",
    "# reverse()\n",
    "\n",
    "l1 = l.count(100)\n",
    "print(l1)"
   ]
  },
  {
   "cell_type": "code",
   "execution_count": 43,
   "id": "69205bef",
   "metadata": {},
   "outputs": [
    {
     "name": "stdout",
     "output_type": "stream",
     "text": [
      "89\n"
     ]
    }
   ],
   "source": [
    "# max()\n",
    "l = [34,56,89,76,34]\n",
    "m = max(l)\n",
    "print(m)"
   ]
  },
  {
   "cell_type": "code",
   "execution_count": 44,
   "id": "48f57195",
   "metadata": {},
   "outputs": [
    {
     "name": "stdout",
     "output_type": "stream",
     "text": [
      "34\n"
     ]
    }
   ],
   "source": [
    "# min()\n",
    "\n",
    "m = min(l)\n",
    "print(m)"
   ]
  },
  {
   "cell_type": "code",
   "execution_count": 49,
   "id": "1c4398ba",
   "metadata": {},
   "outputs": [
    {
     "name": "stdout",
     "output_type": "stream",
     "text": [
      "[34, 34, 56, 76, 89]\n"
     ]
    }
   ],
   "source": [
    "l = [34,56,89,76,34]\n",
    "l.sort()\n",
    "print(l)"
   ]
  },
  {
   "cell_type": "code",
   "execution_count": 50,
   "id": "d7d4e9c8",
   "metadata": {},
   "outputs": [
    {
     "name": "stdout",
     "output_type": "stream",
     "text": [
      "[89, 76, 56, 34, 34]\n"
     ]
    }
   ],
   "source": [
    "# reverse()\n",
    "l.reverse()\n",
    "print(l)"
   ]
  },
  {
   "cell_type": "markdown",
   "id": "20c5282d",
   "metadata": {},
   "source": [
    "# Zip Function"
   ]
  },
  {
   "cell_type": "code",
   "execution_count": 51,
   "id": "d4b2214a",
   "metadata": {},
   "outputs": [
    {
     "name": "stdout",
     "output_type": "stream",
     "text": [
      "12 34\n",
      "34 26\n",
      "67 86\n",
      "86 97\n",
      "22 34\n"
     ]
    }
   ],
   "source": [
    "# How zip function work & how to iterate over 2+ lists at the same time.\n",
    "\n",
    "l1 = [12,34,67,86,22]\n",
    "l2 = [34,26,86,97,34]\n",
    "\n",
    "for a,b in zip(l1,l2):\n",
    "    print(a,b)"
   ]
  },
  {
   "cell_type": "code",
   "execution_count": 52,
   "id": "2121e0c6",
   "metadata": {},
   "outputs": [
    {
     "name": "stdout",
     "output_type": "stream",
     "text": [
      "12 34\n",
      "34 26\n",
      "67 86\n"
     ]
    }
   ],
   "source": [
    "l1 = [12,34,67,86,22]\n",
    "l2 = [34,26,86]\n",
    "\n",
    "for a,b in zip(l1,l2):\n",
    "    print(a,b)"
   ]
  },
  {
   "cell_type": "code",
   "execution_count": 55,
   "id": "435df3f6",
   "metadata": {},
   "outputs": [
    {
     "name": "stdout",
     "output_type": "stream",
     "text": [
      "12\n",
      "34\n",
      "67\n",
      "86\n",
      "22\n"
     ]
    }
   ],
   "source": [
    "l1 = [12,34,67,86,22]\n",
    "#l2 = [34,26,86,97,34]\n",
    "\n",
    "l = len(l1)\n",
    "for i in range(l):\n",
    "    print(l1[i])"
   ]
  },
  {
   "cell_type": "markdown",
   "id": "b2166a9c",
   "metadata": {},
   "source": [
    "# String To List"
   ]
  },
  {
   "cell_type": "code",
   "execution_count": 57,
   "id": "b96e1f1f",
   "metadata": {},
   "outputs": [
    {
     "name": "stdout",
     "output_type": "stream",
     "text": [
      "Enter the valueHey\n",
      "Hey\n",
      "['Hey']\n"
     ]
    }
   ],
   "source": [
    "# How to convert string to list in python.\n",
    "\n",
    "x = input(\"Enter the value\")\n",
    "print(x)\n",
    "\n",
    "l = x.split()\n",
    "print(l)"
   ]
  },
  {
   "cell_type": "code",
   "execution_count": 58,
   "id": "f45ccc08",
   "metadata": {},
   "outputs": [
    {
     "name": "stdout",
     "output_type": "stream",
     "text": [
      "Enter the valueHello Python Here\n",
      "['Hello', 'Python', 'Here']\n"
     ]
    }
   ],
   "source": [
    "x = input(\"Enter the value\")\n",
    "\n",
    "l = x.split()\n",
    "print(l)"
   ]
  },
  {
   "cell_type": "code",
   "execution_count": 60,
   "id": "743b4c2b",
   "metadata": {},
   "outputs": [
    {
     "name": "stdout",
     "output_type": "stream",
     "text": [
      "Enter the value1:-Hi\n",
      "Enter the value2:-HRY\n",
      "Enter the value3:-Gys\n",
      "['Hi', 'HRY', 'Gys']\n"
     ]
    }
   ],
   "source": [
    "l = []\n",
    "for i in range(1,4):\n",
    "    x = input(\"Enter the value\"+str(i)+\":-\")\n",
    "    l.append(x)\n",
    "print(l)"
   ]
  },
  {
   "cell_type": "markdown",
   "id": "4527bd3d",
   "metadata": {},
   "source": [
    "# Stack and Queue"
   ]
  },
  {
   "cell_type": "code",
   "execution_count": 63,
   "id": "769dde22",
   "metadata": {},
   "outputs": [
    {
     "name": "stdout",
     "output_type": "stream",
     "text": [
      "\n",
      "    1 Push Element\n",
      "    2 Pop Element\n",
      "    3 Peek Element\n",
      "    4 Display Stack\n",
      "    5 Exit1\n",
      "Enter the value23\n",
      "push value: ['23']\n",
      "\n",
      "    1 Push Element\n",
      "    2 Pop Element\n",
      "    3 Peek Element\n",
      "    4 Display Stack\n",
      "    5 Exit1\n",
      "Enter the value45\n",
      "push value: ['23', '45']\n",
      "\n",
      "    1 Push Element\n",
      "    2 Pop Element\n",
      "    3 Peek Element\n",
      "    4 Display Stack\n",
      "    5 Exit1\n",
      "Enter the value76\n",
      "push value: ['23', '45', '76']\n",
      "\n",
      "    1 Push Element\n",
      "    2 Pop Element\n",
      "    3 Peek Element\n",
      "    4 Display Stack\n",
      "    5 Exit2\n",
      "pop this value: 76\n",
      "\n",
      "    1 Push Element\n",
      "    2 Pop Element\n",
      "    3 Peek Element\n",
      "    4 Display Stack\n",
      "    5 Exit3\n",
      "Last Stack Value 45\n",
      "\n",
      "    1 Push Element\n",
      "    2 Pop Element\n",
      "    3 Peek Element\n",
      "    4 Display Stack\n",
      "    5 Exit4\n",
      "Display Stack ['23', '45']\n",
      "\n",
      "    1 Push Element\n",
      "    2 Pop Element\n",
      "    3 Peek Element\n",
      "    4 Display Stack\n",
      "    5 Exit7\n",
      "Invalid Number Press\n",
      "\n",
      "    1 Push Element\n",
      "    2 Pop Element\n",
      "    3 Peek Element\n",
      "    4 Display Stack\n",
      "    5 Exit5\n"
     ]
    }
   ],
   "source": [
    "# How to use list data type to implement a stack and queue in python project.\n",
    "\n",
    "l = []\n",
    "while True:\n",
    "    c = int(input('''\n",
    "    1 Push Element\n",
    "    2 Pop Element\n",
    "    3 Peek Element\n",
    "    4 Display Stack\n",
    "    5 Exit'''))\n",
    "    \n",
    "    if c == 1:\n",
    "        n = input(\"Enter the value\")\n",
    "        l.append(n)\n",
    "        print(\"push value:\",l)\n",
    "    elif c == 2:\n",
    "        if len(l) == 0:\n",
    "            print(\"Empty Stack\")\n",
    "        else:\n",
    "            p = l.pop()\n",
    "            print(\"pop this value:\",p)\n",
    "    elif c == 3:\n",
    "        if len(l) == 0:\n",
    "            print(\"Empty Stack\")\n",
    "        else:\n",
    "            dl = l[-1]\n",
    "            print(\"Last Stack Value\",dl)\n",
    "        \n",
    "    elif c == 4:\n",
    "        print(\"Display Stack\", l)\n",
    "    elif c == 5:\n",
    "        break;\n",
    "    else:\n",
    "        print(\"Invalid Number Press\")\n",
    "        "
   ]
  },
  {
   "cell_type": "markdown",
   "id": "b667e474",
   "metadata": {},
   "source": [
    "# Queue"
   ]
  },
  {
   "cell_type": "code",
   "execution_count": 64,
   "id": "0431df6c",
   "metadata": {},
   "outputs": [
    {
     "name": "stdout",
     "output_type": "stream",
     "text": [
      "\n",
      "    1 Push Element\n",
      "    2 Pop First Element\n",
      "    3 Front Element\n",
      "    4 Last Elements\n",
      "    5 Display Queue\n",
      "    6 Exit1\n",
      "Enter the value34\n",
      "push value: ['34']\n",
      "\n",
      "    1 Push Element\n",
      "    2 Pop First Element\n",
      "    3 Front Element\n",
      "    4 Last Elements\n",
      "    5 Display Queue\n",
      "    6 Exit1\n",
      "Enter the value56\n",
      "push value: ['34', '56']\n",
      "\n",
      "    1 Push Element\n",
      "    2 Pop First Element\n",
      "    3 Front Element\n",
      "    4 Last Elements\n",
      "    5 Display Queue\n",
      "    6 Exit1\n",
      "Enter the value68\n",
      "push value: ['34', '56', '68']\n",
      "\n",
      "    1 Push Element\n",
      "    2 Pop First Element\n",
      "    3 Front Element\n",
      "    4 Last Elements\n",
      "    5 Display Queue\n",
      "    6 Exit5\n",
      "Display Queue ['34', '56', '68']\n",
      "\n",
      "    1 Push Element\n",
      "    2 Pop First Element\n",
      "    3 Front Element\n",
      "    4 Last Elements\n",
      "    5 Display Queue\n",
      "    6 Exit2\n",
      "pop this value:\n",
      "\n",
      "    1 Push Element\n",
      "    2 Pop First Element\n",
      "    3 Front Element\n",
      "    4 Last Elements\n",
      "    5 Display Queue\n",
      "    6 Exit3\n",
      "First Queue Value 56\n",
      "\n",
      "    1 Push Element\n",
      "    2 Pop First Element\n",
      "    3 Front Element\n",
      "    4 Last Elements\n",
      "    5 Display Queue\n",
      "    6 Exit4\n",
      "First Queue Value 56\n",
      "\n",
      "    1 Push Element\n",
      "    2 Pop First Element\n",
      "    3 Front Element\n",
      "    4 Last Elements\n",
      "    5 Display Queue\n",
      "    6 Exit6\n"
     ]
    }
   ],
   "source": [
    "# How to use list data type to implement a stack and queue in python project.\n",
    "\n",
    "l = []\n",
    "while True:\n",
    "    c = int(input('''\n",
    "    1 Push Element\n",
    "    2 Pop First Element\n",
    "    3 Front Element\n",
    "    4 Last Elements\n",
    "    5 Display Queue\n",
    "    6 Exit'''))\n",
    "    \n",
    "    if c == 1:\n",
    "        n = input(\"Enter the value\")\n",
    "        l.append(n)\n",
    "        print(\"push value:\",l)\n",
    "    elif c == 2:\n",
    "        if len(l) == 0:\n",
    "            print(\"Empty Queue\")\n",
    "        else:\n",
    "            del l[0]\n",
    "            print(\"pop this value:\")\n",
    "    elif c == 3:\n",
    "        if len(l) == 0:\n",
    "            print(\"Empty Queue\")\n",
    "        else:\n",
    "            dl = l[0]\n",
    "            print(\"First Queue Value\",dl)\n",
    "    elif c == 4:\n",
    "        if len(l) == 0:\n",
    "            print(\"Empty Queue\")\n",
    "        else:\n",
    "            dl = l[0]\n",
    "            print(\"First Queue Value\",dl)\n",
    "        \n",
    "    elif c == 5:\n",
    "        print(\"Display Queue\", l)\n",
    "    elif c == 6:\n",
    "        break;\n",
    "    else:\n",
    "        print(\"Invalid Number Press\")\n",
    "        "
   ]
  },
  {
   "cell_type": "code",
   "execution_count": null,
   "id": "6f3075e2",
   "metadata": {},
   "outputs": [],
   "source": []
  }
 ],
 "metadata": {
  "kernelspec": {
   "display_name": "Python 3 (ipykernel)",
   "language": "python",
   "name": "python3"
  },
  "language_info": {
   "codemirror_mode": {
    "name": "ipython",
    "version": 3
   },
   "file_extension": ".py",
   "mimetype": "text/x-python",
   "name": "python",
   "nbconvert_exporter": "python",
   "pygments_lexer": "ipython3",
   "version": "3.11.1"
  }
 },
 "nbformat": 4,
 "nbformat_minor": 5
}
