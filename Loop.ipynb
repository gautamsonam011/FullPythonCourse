{
 "cells": [
  {
   "cell_type": "markdown",
   "id": "74753a33",
   "metadata": {},
   "source": [
    "# for loop"
   ]
  },
  {
   "cell_type": "code",
   "execution_count": null,
   "id": "1b09df28",
   "metadata": {},
   "outputs": [],
   "source": [
    "# For Loop with Range() in python:------------->\n",
    "range(5)\n",
    "# start = 0\n",
    "# condition < 5\n",
    "# increment 1\n",
    "# 0,1,2,3,4\n",
    "\n",
    "range(1,6)\n",
    "\n",
    "# start = 1\n",
    "# condition < 6\n",
    "# increment 1\n",
    "# 1,2,3,4,5\n",
    "\n",
    "range(1,6,2)\n",
    "# start = 1\n",
    "# condition < 6\n",
    "# increment 2\n",
    "# 1,3,5\n"
   ]
  },
  {
   "cell_type": "code",
   "execution_count": 1,
   "id": "bf5d6f19",
   "metadata": {},
   "outputs": [
    {
     "name": "stdout",
     "output_type": "stream",
     "text": [
      "0\n",
      "1\n",
      "2\n",
      "3\n",
      "4\n"
     ]
    }
   ],
   "source": [
    "for n in range(5):\n",
    "    print(n)"
   ]
  },
  {
   "cell_type": "code",
   "execution_count": 2,
   "id": "a81143d0",
   "metadata": {},
   "outputs": [
    {
     "name": "stdout",
     "output_type": "stream",
     "text": [
      "1\n",
      "2\n",
      "3\n",
      "4\n"
     ]
    }
   ],
   "source": [
    "for i in range(1,5):\n",
    "    print(i)"
   ]
  },
  {
   "cell_type": "code",
   "execution_count": 3,
   "id": "cae2ccde",
   "metadata": {},
   "outputs": [
    {
     "name": "stdout",
     "output_type": "stream",
     "text": [
      "1\n",
      "2\n",
      "3\n",
      "4\n",
      "5\n"
     ]
    }
   ],
   "source": [
    "for i in range(1,6):\n",
    "    print(i)"
   ]
  },
  {
   "cell_type": "code",
   "execution_count": 4,
   "id": "2205dc70",
   "metadata": {},
   "outputs": [
    {
     "name": "stdout",
     "output_type": "stream",
     "text": [
      "1\n",
      "3\n",
      "5\n",
      "7\n",
      "9\n"
     ]
    }
   ],
   "source": [
    "for i in range(1,10,2):\n",
    "    print(i)"
   ]
  },
  {
   "cell_type": "code",
   "execution_count": 5,
   "id": "738824f4",
   "metadata": {},
   "outputs": [
    {
     "name": "stdout",
     "output_type": "stream",
     "text": [
      "0\n",
      "1\n",
      "2\n",
      "3\n",
      "4\n",
      "\n",
      "1\n",
      "2\n",
      "3\n",
      "4\n",
      "5\n",
      "6\n",
      "7\n",
      "8\n"
     ]
    }
   ],
   "source": [
    "for i in range(0,5):\n",
    "    print(i)\n",
    "    \n",
    "print()\n",
    "\n",
    "n = 8\n",
    "for i in range(1,n+1):\n",
    "    print(i)"
   ]
  },
  {
   "cell_type": "code",
   "execution_count": 7,
   "id": "1bda7eec",
   "metadata": {},
   "outputs": [
    {
     "name": "stdout",
     "output_type": "stream",
     "text": [
      "2 * 1 = 2\n",
      "2 * 2 = 4\n",
      "2 * 3 = 6\n",
      "2 * 4 = 8\n",
      "2 * 5 = 10\n",
      "2 * 6 = 12\n",
      "2 * 7 = 14\n",
      "2 * 8 = 16\n",
      "2 * 9 = 18\n",
      "2 * 10 = 20\n"
     ]
    }
   ],
   "source": [
    "for i in range(1,11):\n",
    "    print(\"2 *\",i,\"=\",2*i)"
   ]
  },
  {
   "cell_type": "code",
   "execution_count": 9,
   "id": "898e1968",
   "metadata": {},
   "outputs": [
    {
     "name": "stdout",
     "output_type": "stream",
     "text": [
      "10\n",
      "9\n",
      "8\n",
      "7\n",
      "6\n",
      "5\n",
      "4\n",
      "3\n",
      "2\n",
      "1\n"
     ]
    }
   ],
   "source": [
    "# Decrement------->\n",
    "# range(10,0,-1)\n",
    "\n",
    "for i in range(10,0,-1):\n",
    "    print(i)"
   ]
  },
  {
   "cell_type": "code",
   "execution_count": 10,
   "id": "061e9c5d",
   "metadata": {},
   "outputs": [
    {
     "name": "stdout",
     "output_type": "stream",
     "text": [
      "10\n",
      "8\n",
      "6\n",
      "4\n",
      "2\n"
     ]
    }
   ],
   "source": [
    "for i in range(10,0,-2):\n",
    "    print(i)"
   ]
  },
  {
   "cell_type": "markdown",
   "id": "d7bf48c6",
   "metadata": {},
   "source": [
    "# While Loop"
   ]
  },
  {
   "cell_type": "code",
   "execution_count": 13,
   "id": "6c345ab4",
   "metadata": {},
   "outputs": [
    {
     "name": "stdout",
     "output_type": "stream",
     "text": [
      "Hii! here 1\n",
      "Hii! here 2\n",
      "Hii! here 3\n",
      "Hii! here 4\n",
      "Hii! here 5\n",
      "Hii! here 6\n",
      "Hii! here 7\n",
      "Hii! here 8\n",
      "Hii! here 9\n",
      "Hii! here 10\n"
     ]
    }
   ],
   "source": [
    "# start\n",
    "# condition\n",
    "# increment/decrement\n",
    "\n",
    "i = 1\n",
    "while i <= 10:\n",
    "    print(\"Hii! here\",i)\n",
    "    i = i+1          # i++ not support here\n",
    "    "
   ]
  },
  {
   "cell_type": "code",
   "execution_count": 15,
   "id": "9ce6d5be",
   "metadata": {},
   "outputs": [
    {
     "name": "stdout",
     "output_type": "stream",
     "text": [
      "Hii! here 1\n",
      "Hii! here 2\n",
      "Hii! here 3\n",
      "Hii! here 4\n",
      "Hii! here 5\n",
      "Hii! here 6\n",
      "Hii! here 7\n",
      "Hii! here 8\n",
      "Hii! here 9\n",
      "Hii! here 10\n",
      "Loop terminated here 11\n"
     ]
    }
   ],
   "source": [
    "\n",
    "i = 1\n",
    "while i <= 10:\n",
    "    print(\"Hii! here\",i)\n",
    "    i = i+1          # i++ not support here\n",
    "print(\"Loop terminated here\",i)  "
   ]
  },
  {
   "cell_type": "code",
   "execution_count": 16,
   "id": "8a8230ee",
   "metadata": {},
   "outputs": [
    {
     "name": "stdout",
     "output_type": "stream",
     "text": [
      "10 Hello\n",
      "9 Hello\n",
      "8 Hello\n",
      "7 Hello\n",
      "6 Hello\n",
      "5 Hello\n",
      "4 Hello\n",
      "3 Hello\n",
      "2 Hello\n",
      "1 Hello\n",
      "Loop terminated here 0\n"
     ]
    }
   ],
   "source": [
    "a = 10\n",
    "while a >= 1:\n",
    "    print(a,\"Hello\")\n",
    "    a = a-1\n",
    "print(\"Loop terminated here\",a)"
   ]
  },
  {
   "cell_type": "code",
   "execution_count": null,
   "id": "91eed744",
   "metadata": {},
   "outputs": [],
   "source": []
  }
 ],
 "metadata": {
  "kernelspec": {
   "display_name": "Python 3 (ipykernel)",
   "language": "python",
   "name": "python3"
  },
  "language_info": {
   "codemirror_mode": {
    "name": "ipython",
    "version": 3
   },
   "file_extension": ".py",
   "mimetype": "text/x-python",
   "name": "python",
   "nbconvert_exporter": "python",
   "pygments_lexer": "ipython3",
   "version": "3.11.1"
  }
 },
 "nbformat": 4,
 "nbformat_minor": 5
}
