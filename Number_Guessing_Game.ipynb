{
 "cells": [
  {
   "cell_type": "code",
   "execution_count": null,
   "id": "ba212d5f",
   "metadata": {},
   "outputs": [],
   "source": [
    "# How to create a random number guessing game using random module in python.\n",
    "\n",
    "import random\n",
    "\n",
    "Cnumber = random.randrange(1,101)\n",
    "userInput = int(input(\"Enter your number\"))\n",
    "\n",
    "if userInput > Cnumber:\n",
    "    print(\"Computer Number\",Cnumber)\n",
    "    print(\"Your Guess number is too high\")\n",
    "elif Cnumber > userInput:\n",
    "    print(\"Computer Number\",Cnumber)\n",
    "    print(\"Your guess number is too low\")\n",
    "else:\n",
    "    print(\"Computer Number\",Cnumber)\n",
    "    print(\"Your guess number is equal\")"
   ]
  }
 ],
 "metadata": {
  "kernelspec": {
   "display_name": "Python 3 (ipykernel)",
   "language": "python",
   "name": "python3"
  },
  "language_info": {
   "codemirror_mode": {
    "name": "ipython",
    "version": 3
   },
   "file_extension": ".py",
   "mimetype": "text/x-python",
   "name": "python",
   "nbconvert_exporter": "python",
   "pygments_lexer": "ipython3",
   "version": "3.11.1"
  }
 },
 "nbformat": 4,
 "nbformat_minor": 5
}
