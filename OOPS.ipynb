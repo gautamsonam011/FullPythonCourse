{
 "cells": [
  {
   "cell_type": "code",
   "execution_count": 1,
   "id": "8f3aaa9b",
   "metadata": {},
   "outputs": [
    {
     "data": {
      "text/plain": [
       "45"
      ]
     },
     "execution_count": 1,
     "metadata": {},
     "output_type": "execute_result"
    }
   ],
   "source": [
    "# Variable------->\n",
    "\n",
    "class demoClass:\n",
    "    a = 45\n",
    "\n",
    "obj = demoClass()\n",
    "obj.a"
   ]
  },
  {
   "cell_type": "code",
   "execution_count": 2,
   "id": "1cd5d2fd",
   "metadata": {},
   "outputs": [
    {
     "data": {
      "text/plain": [
       "45"
      ]
     },
     "execution_count": 2,
     "metadata": {},
     "output_type": "execute_result"
    }
   ],
   "source": [
    "obj.a"
   ]
  },
  {
   "cell_type": "code",
   "execution_count": 3,
   "id": "2615f267",
   "metadata": {},
   "outputs": [
    {
     "data": {
      "text/plain": [
       "7"
      ]
     },
     "execution_count": 3,
     "metadata": {},
     "output_type": "execute_result"
    }
   ],
   "source": [
    "# Function----------->\n",
    "\n",
    "class funcClass:\n",
    "    def func(self,a,b):    # method\n",
    "        return a+b\n",
    "obj = funcClass()\n",
    "obj.func(4,3)"
   ]
  },
  {
   "cell_type": "code",
   "execution_count": 4,
   "id": "b7ae0016",
   "metadata": {},
   "outputs": [
    {
     "data": {
      "text/plain": [
       "12"
      ]
     },
     "execution_count": 4,
     "metadata": {},
     "output_type": "execute_result"
    }
   ],
   "source": [
    "obj.func(5,7)"
   ]
  },
  {
   "cell_type": "markdown",
   "id": "ef0f4716",
   "metadata": {},
   "source": [
    "# Method & Constractor"
   ]
  },
  {
   "cell_type": "code",
   "execution_count": 1,
   "id": "51d8af83",
   "metadata": {},
   "outputs": [
    {
     "ename": "NameError",
     "evalue": "name 'a' is not defined",
     "output_type": "error",
     "traceback": [
      "\u001b[1;31m---------------------------------------------------------------------------\u001b[0m",
      "\u001b[1;31mNameError\u001b[0m                                 Traceback (most recent call last)",
      "Cell \u001b[1;32mIn[1], line 6\u001b[0m\n\u001b[0;32m      4\u001b[0m         \u001b[38;5;28mprint\u001b[39m(a)\n\u001b[0;32m      5\u001b[0m obj \u001b[38;5;241m=\u001b[39m DemoClass()\n\u001b[1;32m----> 6\u001b[0m \u001b[43mobj\u001b[49m\u001b[38;5;241;43m.\u001b[39;49m\u001b[43mshowvalue\u001b[49m\u001b[43m(\u001b[49m\u001b[43m)\u001b[49m\n",
      "Cell \u001b[1;32mIn[1], line 4\u001b[0m, in \u001b[0;36mDemoClass.showvalue\u001b[1;34m(self)\u001b[0m\n\u001b[0;32m      3\u001b[0m \u001b[38;5;28;01mdef\u001b[39;00m \u001b[38;5;21mshowvalue\u001b[39m(\u001b[38;5;28mself\u001b[39m):\n\u001b[1;32m----> 4\u001b[0m     \u001b[38;5;28mprint\u001b[39m(\u001b[43ma\u001b[49m)\n",
      "\u001b[1;31mNameError\u001b[0m: name 'a' is not defined"
     ]
    }
   ],
   "source": [
    "# Method---------------->\n",
    "\n",
    "class DemoClass:\n",
    "    a = 10\n",
    "    def showvalue(self):\n",
    "        print(a)\n",
    "obj = DemoClass()\n",
    "obj.showvalue()"
   ]
  },
  {
   "cell_type": "code",
   "execution_count": 2,
   "id": "d96d77b9",
   "metadata": {},
   "outputs": [
    {
     "name": "stdout",
     "output_type": "stream",
     "text": [
      "10\n"
     ]
    }
   ],
   "source": [
    "class DemoClass:\n",
    "    a = 10\n",
    "    def showvalue(self):\n",
    "        print(self.a)\n",
    "obj = DemoClass()\n",
    "obj.showvalue()"
   ]
  },
  {
   "cell_type": "code",
   "execution_count": 3,
   "id": "be72609c",
   "metadata": {},
   "outputs": [
    {
     "ename": "TypeError",
     "evalue": "DemoClass.showvalue() takes 1 positional argument but 2 were given",
     "output_type": "error",
     "traceback": [
      "\u001b[1;31m---------------------------------------------------------------------------\u001b[0m",
      "\u001b[1;31mTypeError\u001b[0m                                 Traceback (most recent call last)",
      "Cell \u001b[1;32mIn[3], line 1\u001b[0m\n\u001b[1;32m----> 1\u001b[0m \u001b[43mobj\u001b[49m\u001b[38;5;241;43m.\u001b[39;49m\u001b[43mshowvalue\u001b[49m\u001b[43m(\u001b[49m\u001b[38;5;241;43m40\u001b[39;49m\u001b[43m)\u001b[49m\n",
      "\u001b[1;31mTypeError\u001b[0m: DemoClass.showvalue() takes 1 positional argument but 2 were given"
     ]
    }
   ],
   "source": [
    "obj.showvalue(40)"
   ]
  },
  {
   "cell_type": "code",
   "execution_count": 4,
   "id": "69e7e024",
   "metadata": {},
   "outputs": [
    {
     "name": "stdout",
     "output_type": "stream",
     "text": [
      "10\n"
     ]
    }
   ],
   "source": [
    "obj.showvalue()"
   ]
  },
  {
   "cell_type": "code",
   "execution_count": 5,
   "id": "15bf56f4",
   "metadata": {},
   "outputs": [
    {
     "name": "stdout",
     "output_type": "stream",
     "text": [
      "100\n"
     ]
    }
   ],
   "source": [
    "class DemoClass:\n",
    "    a = 10\n",
    "    def showvalue(self):\n",
    "        self.c = self.a*self.a\n",
    "        print(self.c)\n",
    "obj = DemoClass()\n",
    "obj.showvalue()"
   ]
  },
  {
   "cell_type": "code",
   "execution_count": 7,
   "id": "97829525",
   "metadata": {},
   "outputs": [
    {
     "name": "stdout",
     "output_type": "stream",
     "text": [
      "10\n",
      "This is value\n"
     ]
    }
   ],
   "source": [
    "class DemoClass:\n",
    "    a = 10\n",
    "    def showvalue(self):\n",
    "        print(self.a)\n",
    "    def showvalue1(self):\n",
    "        print(\"This is value\")\n",
    "obj = DemoClass()\n",
    "obj.showvalue()\n",
    "obj.showvalue1()"
   ]
  },
  {
   "cell_type": "code",
   "execution_count": 8,
   "id": "4114058b",
   "metadata": {},
   "outputs": [
    {
     "name": "stdout",
     "output_type": "stream",
     "text": [
      "10\n",
      "This is value 3 5\n"
     ]
    }
   ],
   "source": [
    "class DemoClass:\n",
    "    a = 10\n",
    "    def showvalue(self):\n",
    "        print(self.a)\n",
    "    def showvalue1(self,x,y):\n",
    "        print(\"This is value\",x,y)\n",
    "obj = DemoClass()\n",
    "obj.showvalue()\n",
    "obj.showvalue1(3,5)"
   ]
  },
  {
   "cell_type": "code",
   "execution_count": 9,
   "id": "6cbe5a5f",
   "metadata": {},
   "outputs": [
    {
     "name": "stdout",
     "output_type": "stream",
     "text": [
      "Hey Guys! Welcome To You Here\n"
     ]
    }
   ],
   "source": [
    "# Constructor:----------------> Here we do not have to call method or function\n",
    "\n",
    "class consClass:                  \n",
    "    def __init__(self):\n",
    "        print(\"Hey Guys! Welcome To You Here\")\n",
    "obj = consClass()"
   ]
  },
  {
   "cell_type": "code",
   "execution_count": 21,
   "id": "b4d38abe",
   "metadata": {},
   "outputs": [
    {
     "name": "stdout",
     "output_type": "stream",
     "text": [
      "Sum of A and B: 14\n"
     ]
    }
   ],
   "source": [
    "class sumClass:\n",
    "    a=9\n",
    "    b=5\n",
    "    def __init__(self,a,b):\n",
    "        self.c = self.a+self.b\n",
    "        print(\"Sum of A and B:\",self.c)\n",
    "s = sumClass(4,6)"
   ]
  },
  {
   "cell_type": "markdown",
   "id": "5ee5a444",
   "metadata": {},
   "source": [
    "# Inheritance"
   ]
  },
  {
   "cell_type": "code",
   "execution_count": 22,
   "id": "a839dc2b",
   "metadata": {},
   "outputs": [
    {
     "name": "stdout",
     "output_type": "stream",
     "text": [
      "Display A\n",
      "Display B\n"
     ]
    }
   ],
   "source": [
    "# Single Inheritance:---------------->\n",
    "\n",
    "class A:\n",
    "    def displayA(self):\n",
    "        print(\"Display A\")\n",
    "\n",
    "class B(A):\n",
    "    def displayB(self):\n",
    "        print(\"Display B\")\n",
    "\n",
    "obj = B()\n",
    "obj.displayA()\n",
    "obj.displayB()"
   ]
  },
  {
   "cell_type": "code",
   "execution_count": 23,
   "id": "2ebe10b4",
   "metadata": {},
   "outputs": [
    {
     "name": "stdout",
     "output_type": "stream",
     "text": [
      "Display GP\n",
      "Display P\n",
      "Display C\n"
     ]
    }
   ],
   "source": [
    "# Multi-level Inheritance:------------------->\n",
    "\n",
    "class GP:\n",
    "    def displayGP(self):\n",
    "        print(\"Display GP\")\n",
    "\n",
    "class P(GP):\n",
    "    def displayP(self):\n",
    "        print(\"Display P\")\n",
    "\n",
    "class C(P):\n",
    "    def displayC(self):\n",
    "        print(\"Display C\")\n",
    "\n",
    "obj = C()\n",
    "obj.displayGP()\n",
    "obj.displayP()\n",
    "obj.displayC()"
   ]
  },
  {
   "cell_type": "code",
   "execution_count": 25,
   "id": "55e449be",
   "metadata": {},
   "outputs": [
    {
     "name": "stdout",
     "output_type": "stream",
     "text": [
      "Display GP\n",
      "Display P\n"
     ]
    }
   ],
   "source": [
    "# Multiple Inheritance--------------->\n",
    "\n",
    "# GP to P------->\n",
    "\n",
    "class GP:\n",
    "    def displayGP(self):\n",
    "        print(\"Display GP\")\n",
    "\n",
    "class P(GP):\n",
    "    def displayP(self):\n",
    "        print(\"Display P\")\n",
    "\n",
    "obj =P()\n",
    "obj.displayGP()\n",
    "obj.displayP()"
   ]
  },
  {
   "cell_type": "code",
   "execution_count": 26,
   "id": "541f0479",
   "metadata": {},
   "outputs": [
    {
     "name": "stdout",
     "output_type": "stream",
     "text": [
      "Display GP\n",
      "Display C\n"
     ]
    }
   ],
   "source": [
    "# GP to C-------->\n",
    "\n",
    "class GP:\n",
    "    def displayGP(self):\n",
    "        print(\"Display GP\")\n",
    "class C(GP):\n",
    "    def displayC(self):\n",
    "        print(\"Display C\")\n",
    "obj =C()\n",
    "obj.displayGP()\n",
    "obj.displayC()"
   ]
  },
  {
   "cell_type": "code",
   "execution_count": 27,
   "id": "7bb150b1",
   "metadata": {},
   "outputs": [
    {
     "name": "stdout",
     "output_type": "stream",
     "text": [
      "Display P\n",
      "Display C\n"
     ]
    }
   ],
   "source": [
    "# P to C---------->\n",
    "\n",
    "class P:\n",
    "    def displayP(self):\n",
    "        print(\"Display P\")\n",
    "class C(P):\n",
    "    def displayC(self):\n",
    "        print(\"Display C\")\n",
    "obj =C()\n",
    "obj.displayP()\n",
    "obj.displayC()"
   ]
  },
  {
   "cell_type": "code",
   "execution_count": 29,
   "id": "af74e80d",
   "metadata": {},
   "outputs": [
    {
     "name": "stdout",
     "output_type": "stream",
     "text": [
      "Display P\n",
      "Display C\n"
     ]
    }
   ],
   "source": [
    "\n",
    "# C to P-------->\n",
    "class GP:\n",
    "    def displayGP(self):\n",
    "        print(\"Display GP\")\n",
    "class P(C):\n",
    "    def displayP(self):\n",
    "        print(\"Display P\")\n",
    "        \n",
    "class C:\n",
    "    def displayC(self):\n",
    "        print(\"Display C\")\n",
    "\n",
    "\n",
    "obj =P()\n",
    "obj.displayP()\n",
    "obj.displayC()"
   ]
  },
  {
   "cell_type": "markdown",
   "id": "ea46ca0d",
   "metadata": {},
   "source": [
    "# Encapsulation(Getter and Setter)"
   ]
  },
  {
   "cell_type": "code",
   "execution_count": 30,
   "id": "673ae8be",
   "metadata": {},
   "outputs": [
    {
     "name": "stdout",
     "output_type": "stream",
     "text": [
      "Testing\n"
     ]
    }
   ],
   "source": [
    "class Student:\n",
    "    def __init__(self):\n",
    "        self.__name=\"\"\n",
    "    def getname(self):\n",
    "        return self.__name\n",
    "    def setname(self,name):\n",
    "        self.__name = name\n",
    "obj = Student()\n",
    "obj.setname(\"Testing\")\n",
    "name = obj.getname()\n",
    "print(name)"
   ]
  },
  {
   "cell_type": "code",
   "execution_count": 31,
   "id": "6c0c307b",
   "metadata": {},
   "outputs": [
    {
     "data": {
      "text/plain": [
       "'Testing'"
      ]
     },
     "execution_count": 31,
     "metadata": {},
     "output_type": "execute_result"
    }
   ],
   "source": [
    "obj.getname()"
   ]
  },
  {
   "cell_type": "code",
   "execution_count": 32,
   "id": "564a5695",
   "metadata": {},
   "outputs": [
    {
     "ename": "AttributeError",
     "evalue": "'Student' object has no attribute '__name'",
     "output_type": "error",
     "traceback": [
      "\u001b[1;31m---------------------------------------------------------------------------\u001b[0m",
      "\u001b[1;31mAttributeError\u001b[0m                            Traceback (most recent call last)",
      "Cell \u001b[1;32mIn[32], line 7\u001b[0m\n\u001b[0;32m      4\u001b[0m     __name \u001b[38;5;241m=\u001b[39m \u001b[38;5;124m\"\u001b[39m\u001b[38;5;124mRavi\u001b[39m\u001b[38;5;124m\"\u001b[39m\n\u001b[0;32m      6\u001b[0m obj \u001b[38;5;241m=\u001b[39m Student()\n\u001b[1;32m----> 7\u001b[0m \u001b[43mobj\u001b[49m\u001b[38;5;241;43m.\u001b[39;49m\u001b[43m__name\u001b[49m\n",
      "\u001b[1;31mAttributeError\u001b[0m: 'Student' object has no attribute '__name'"
     ]
    }
   ],
   "source": [
    "# private variable----->\n",
    "\n",
    "class Student:\n",
    "    __name = \"Ravi\"\n",
    "\n",
    "obj = Student()\n",
    "obj.__name"
   ]
  },
  {
   "cell_type": "code",
   "execution_count": 33,
   "id": "62ebe115",
   "metadata": {},
   "outputs": [
    {
     "name": "stdout",
     "output_type": "stream",
     "text": [
      "Ravi\n"
     ]
    }
   ],
   "source": [
    "class Student:\n",
    "    __name = \"Ravi\"\n",
    "    def __init__(self):\n",
    "        print(self.__name)\n",
    "\n",
    "obj = Student()"
   ]
  },
  {
   "cell_type": "code",
   "execution_count": 35,
   "id": "aa39e676",
   "metadata": {},
   "outputs": [
    {
     "name": "stdout",
     "output_type": "stream",
     "text": [
      "Ravi\n"
     ]
    },
    {
     "ename": "AttributeError",
     "evalue": "'Student' object has no attribute '__displayinfo'",
     "output_type": "error",
     "traceback": [
      "\u001b[1;31m---------------------------------------------------------------------------\u001b[0m",
      "\u001b[1;31mAttributeError\u001b[0m                            Traceback (most recent call last)",
      "Cell \u001b[1;32mIn[35], line 9\u001b[0m\n\u001b[0;32m      6\u001b[0m         \u001b[38;5;28mprint\u001b[39m(\u001b[38;5;124m\"\u001b[39m\u001b[38;5;124mHiiiiiiiiii!\u001b[39m\u001b[38;5;124m\"\u001b[39m)\n\u001b[0;32m      8\u001b[0m obj \u001b[38;5;241m=\u001b[39m Student()\n\u001b[1;32m----> 9\u001b[0m \u001b[43mobj\u001b[49m\u001b[38;5;241;43m.\u001b[39;49m\u001b[43m__displayinfo\u001b[49m()\n",
      "\u001b[1;31mAttributeError\u001b[0m: 'Student' object has no attribute '__displayinfo'"
     ]
    }
   ],
   "source": [
    "class Student:\n",
    "    __name = \"Ravi\"\n",
    "    def __init__(self):\n",
    "        print(self.__name)\n",
    "    def __displayinfo(self):\n",
    "        print(\"Hiiiiiiiiii!\")\n",
    "\n",
    "obj = Student()\n",
    "obj.__displayinfo()"
   ]
  },
  {
   "cell_type": "code",
   "execution_count": 36,
   "id": "5b0831c1",
   "metadata": {},
   "outputs": [
    {
     "name": "stdout",
     "output_type": "stream",
     "text": [
      "Ravi\n",
      "Hiiiiiiiiii!\n"
     ]
    }
   ],
   "source": [
    "class Student:\n",
    "    __name = \"Ravi\"                         # variable\n",
    "    def __init__(self):\n",
    "        print(self.__name)\n",
    "        self.__displayinfo()\n",
    "    def __displayinfo(self):                # method\n",
    "        print(\"Hiiiiiiiiii!\")\n",
    "\n",
    "obj = Student()"
   ]
  },
  {
   "cell_type": "markdown",
   "id": "5203890e",
   "metadata": {},
   "source": [
    "# Polymorphism"
   ]
  },
  {
   "cell_type": "code",
   "execution_count": 37,
   "id": "2e82e7e9",
   "metadata": {},
   "outputs": [
    {
     "name": "stdout",
     "output_type": "stream",
     "text": [
      "4\n"
     ]
    }
   ],
   "source": [
    "l = [45,67,98,32]\n",
    "print(len(l))"
   ]
  },
  {
   "cell_type": "code",
   "execution_count": 38,
   "id": "c2c18cb5",
   "metadata": {},
   "outputs": [
    {
     "name": "stdout",
     "output_type": "stream",
     "text": [
      "7\n"
     ]
    }
   ],
   "source": [
    "s = \"Welcome\"\n",
    "print(len(s))"
   ]
  },
  {
   "cell_type": "code",
   "execution_count": 41,
   "id": "417bc31a",
   "metadata": {},
   "outputs": [
    {
     "name": "stdout",
     "output_type": "stream",
     "text": [
      "Welcome\n"
     ]
    }
   ],
   "source": [
    "# Overloading\n",
    "# Overriding\n",
    "\n",
    "# Overloading---------->\n",
    "\n",
    "class A:\n",
    "    def displayinfo(self,name=''):\n",
    "        print(\"Welcome\" +name)\n",
    "obj = A()\n",
    "obj.displayinfo()\n",
    "        "
   ]
  },
  {
   "cell_type": "code",
   "execution_count": 42,
   "id": "dcac781f",
   "metadata": {},
   "outputs": [
    {
     "name": "stdout",
     "output_type": "stream",
     "text": [
      "WelcomePython\n"
     ]
    }
   ],
   "source": [
    "obj.displayinfo('Python')"
   ]
  },
  {
   "cell_type": "code",
   "execution_count": 43,
   "id": "365ee168",
   "metadata": {},
   "outputs": [
    {
     "name": "stdout",
     "output_type": "stream",
     "text": [
      "Welcom To B\n"
     ]
    }
   ],
   "source": [
    "# Overriding--------------->\n",
    "\n",
    "class A:\n",
    "    def displayinfo(self,name=''):               # child override parent \n",
    "        print(\"Welcome To A\")\n",
    "        \n",
    "class B(A):\n",
    "    def displayinfo(self):\n",
    "        print(\"Welcom To B\")\n",
    "obj = B()\n",
    "obj.displayinfo()"
   ]
  },
  {
   "cell_type": "code",
   "execution_count": 44,
   "id": "4e055d76",
   "metadata": {},
   "outputs": [
    {
     "name": "stdout",
     "output_type": "stream",
     "text": [
      "Welcome To A\n",
      "Welcom To B\n"
     ]
    }
   ],
   "source": [
    "class A:\n",
    "    def displayinfo(self,name=''):\n",
    "        print(\"Welcome To A\")\n",
    "        \n",
    "class B(A):\n",
    "    def displayinfo(self):\n",
    "        super().displayinfo()\n",
    "        print(\"Welcom To B\")\n",
    "obj = B()\n",
    "obj.displayinfo()"
   ]
  },
  {
   "cell_type": "markdown",
   "id": "82d9423d",
   "metadata": {},
   "source": [
    "#Mthod Overloading:-\n",
    "1:- Method overloading is one concept of polymorphism.\n",
    "2:- It comes under the elements of OOPS.\n",
    "3:- It is worked in the same method names and different arguments.\n",
    "4:- Arguments different will be based on a number of arguments and types of arguments.\n"
   ]
  },
  {
   "cell_type": "code",
   "execution_count": 45,
   "id": "6d4afcd9",
   "metadata": {},
   "outputs": [
    {
     "name": "stdout",
     "output_type": "stream",
     "text": [
      "Nothing!\n"
     ]
    }
   ],
   "source": [
    "class Area:\n",
    "    def findArea(self,a=None,b=None):\n",
    "        if (a != None) and (b != None):\n",
    "            print(\"Area of Rectangle\",a*b)\n",
    "        elif (a != None):\n",
    "            print(\"Area of Square\",a**a)\n",
    "        else:\n",
    "            print(\"Nothing!\")\n",
    "obj = Area()\n",
    "obj.findArea()"
   ]
  },
  {
   "cell_type": "code",
   "execution_count": 46,
   "id": "a6434cfc",
   "metadata": {},
   "outputs": [
    {
     "name": "stdout",
     "output_type": "stream",
     "text": [
      "Area of Square 27\n"
     ]
    }
   ],
   "source": [
    "obj.findArea(3)"
   ]
  },
  {
   "cell_type": "code",
   "execution_count": 47,
   "id": "12c8a0cf",
   "metadata": {},
   "outputs": [
    {
     "name": "stdout",
     "output_type": "stream",
     "text": [
      "Area of Rectangle 24\n"
     ]
    }
   ],
   "source": [
    "obj.findArea(4,6)"
   ]
  },
  {
   "cell_type": "code",
   "execution_count": 48,
   "id": "2a49ebcb",
   "metadata": {},
   "outputs": [
    {
     "name": "stdout",
     "output_type": "stream",
     "text": [
      "Area of Rectangle 4\n"
     ]
    }
   ],
   "source": [
    "obj.findArea(2,2)"
   ]
  },
  {
   "cell_type": "code",
   "execution_count": 49,
   "id": "e28fe7ec",
   "metadata": {},
   "outputs": [
    {
     "name": "stdout",
     "output_type": "stream",
     "text": [
      "Area of Square 256\n"
     ]
    }
   ],
   "source": [
    "obj.findArea(4)"
   ]
  },
  {
   "cell_type": "markdown",
   "id": "8ba14ee8",
   "metadata": {},
   "source": [
    "#Method Overriding:- \n",
    "1:- Method Overriding is the method having the same name with the same arguments.\n",
    "2:- It is implemented with inheritance also.\n",
    "3:- It mostly used for memory reducing processes.\n"
   ]
  },
  {
   "cell_type": "code",
   "execution_count": 50,
   "id": "eb172075",
   "metadata": {},
   "outputs": [
    {
     "name": "stdout",
     "output_type": "stream",
     "text": [
      "I am in B class\n"
     ]
    }
   ],
   "source": [
    "class A:\n",
    "    def showData(self):\n",
    "        print(\"I am in A class\")\n",
    "        \n",
    "class B(A):\n",
    "    def showData(self):\n",
    "        print(\"I am in B class\")\n",
    "obj = B()\n",
    "obj.showData()"
   ]
  },
  {
   "cell_type": "code",
   "execution_count": null,
   "id": "96dbf634",
   "metadata": {},
   "outputs": [],
   "source": []
  }
 ],
 "metadata": {
  "kernelspec": {
   "display_name": "Python 3 (ipykernel)",
   "language": "python",
   "name": "python3"
  },
  "language_info": {
   "codemirror_mode": {
    "name": "ipython",
    "version": 3
   },
   "file_extension": ".py",
   "mimetype": "text/x-python",
   "name": "python",
   "nbconvert_exporter": "python",
   "pygments_lexer": "ipython3",
   "version": "3.11.1"
  }
 },
 "nbformat": 4,
 "nbformat_minor": 5
}
