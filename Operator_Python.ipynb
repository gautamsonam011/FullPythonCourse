{
 "cells": [
  {
   "cell_type": "markdown",
   "id": "e8d788f0",
   "metadata": {},
   "source": [
    "# Arithmetic Operators:-"
   ]
  },
  {
   "cell_type": "code",
   "execution_count": 1,
   "id": "9f8400ff",
   "metadata": {},
   "outputs": [
    {
     "name": "stdout",
     "output_type": "stream",
     "text": [
      "54\n"
     ]
    }
   ],
   "source": [
    "# Addition:----------->\n",
    "\n",
    "a = 20\n",
    "b = 34\n",
    "c = a+b\n",
    "print(c)"
   ]
  },
  {
   "cell_type": "code",
   "execution_count": 2,
   "id": "31e4ff6d",
   "metadata": {},
   "outputs": [
    {
     "name": "stdout",
     "output_type": "stream",
     "text": [
      "-14\n"
     ]
    }
   ],
   "source": [
    "# Subtraction---------->\n",
    "\n",
    "a = 20\n",
    "b = 34\n",
    "c = a-b\n",
    "print(c)"
   ]
  },
  {
   "cell_type": "code",
   "execution_count": 3,
   "id": "ee5bca2a",
   "metadata": {},
   "outputs": [
    {
     "name": "stdout",
     "output_type": "stream",
     "text": [
      "680\n"
     ]
    }
   ],
   "source": [
    "# Multiplication------->\n",
    "\n",
    "a = 20\n",
    "b = 34\n",
    "c = a*b\n",
    "print(c)"
   ]
  },
  {
   "cell_type": "code",
   "execution_count": 4,
   "id": "858b8113",
   "metadata": {},
   "outputs": [
    {
     "name": "stdout",
     "output_type": "stream",
     "text": [
      "0.5882352941176471\n"
     ]
    }
   ],
   "source": [
    "# Division-->\n",
    "\n",
    "a = 20\n",
    "b = 34\n",
    "c = a/b\n",
    "print(c)"
   ]
  },
  {
   "cell_type": "code",
   "execution_count": 7,
   "id": "c0b6af1b",
   "metadata": {},
   "outputs": [
    {
     "name": "stdout",
     "output_type": "stream",
     "text": [
      "1\n"
     ]
    }
   ],
   "source": [
    "# Modulus---------->\n",
    "a= 10\n",
    "print(a%3)"
   ]
  },
  {
   "cell_type": "code",
   "execution_count": 8,
   "id": "d0e882cf",
   "metadata": {},
   "outputs": [
    {
     "name": "stdout",
     "output_type": "stream",
     "text": [
      "25\n"
     ]
    }
   ],
   "source": [
    "#           Exponents        \n",
    "\n",
    "print(5**2)   #5*5"
   ]
  },
  {
   "cell_type": "code",
   "execution_count": 9,
   "id": "8a799cbf",
   "metadata": {},
   "outputs": [
    {
     "name": "stdout",
     "output_type": "stream",
     "text": [
      "8\n"
     ]
    }
   ],
   "source": [
    "print(2**3)"
   ]
  },
  {
   "cell_type": "code",
   "execution_count": 10,
   "id": "437b2614",
   "metadata": {},
   "outputs": [
    {
     "name": "stdout",
     "output_type": "stream",
     "text": [
      "3.3333333333333335\n"
     ]
    }
   ],
   "source": [
    "# Floor division----->\n",
    "\n",
    "print(10/3)"
   ]
  },
  {
   "cell_type": "code",
   "execution_count": 11,
   "id": "23e2ac50",
   "metadata": {},
   "outputs": [
    {
     "name": "stdout",
     "output_type": "stream",
     "text": [
      "3\n"
     ]
    }
   ],
   "source": [
    "print(10//3)"
   ]
  },
  {
   "cell_type": "markdown",
   "id": "88e9284e",
   "metadata": {},
   "source": [
    "# Assignment Operators:-"
   ]
  },
  {
   "cell_type": "code",
   "execution_count": 1,
   "id": "3cd33b8f",
   "metadata": {},
   "outputs": [
    {
     "name": "stdout",
     "output_type": "stream",
     "text": [
      "5\n"
     ]
    }
   ],
   "source": [
    "# (=)\n",
    "x = 5\n",
    "print(x)"
   ]
  },
  {
   "cell_type": "code",
   "execution_count": 2,
   "id": "958788aa",
   "metadata": {},
   "outputs": [
    {
     "name": "stdout",
     "output_type": "stream",
     "text": [
      "14\n"
     ]
    }
   ],
   "source": [
    "x = 9\n",
    "x = x+5\n",
    "print(x)"
   ]
  },
  {
   "cell_type": "code",
   "execution_count": 3,
   "id": "16f07892",
   "metadata": {},
   "outputs": [
    {
     "name": "stdout",
     "output_type": "stream",
     "text": [
      "66\n"
     ]
    }
   ],
   "source": [
    "x = 60\n",
    "x += 6\n",
    "print(x)"
   ]
  },
  {
   "cell_type": "code",
   "execution_count": 4,
   "id": "76f46e7d",
   "metadata": {},
   "outputs": [
    {
     "name": "stdout",
     "output_type": "stream",
     "text": [
      "6\n"
     ]
    }
   ],
   "source": [
    "y = 9\n",
    "y = y-3\n",
    "print(y)"
   ]
  },
  {
   "cell_type": "code",
   "execution_count": 5,
   "id": "4a71cefa",
   "metadata": {},
   "outputs": [
    {
     "name": "stdout",
     "output_type": "stream",
     "text": [
      "4\n"
     ]
    }
   ],
   "source": [
    "y -= 2\n",
    "print(y)"
   ]
  },
  {
   "cell_type": "markdown",
   "id": "38365f88",
   "metadata": {},
   "source": [
    "# Comparison Operators in python "
   ]
  },
  {
   "cell_type": "code",
   "execution_count": 6,
   "id": "74dd119b",
   "metadata": {},
   "outputs": [
    {
     "name": "stdout",
     "output_type": "stream",
     "text": [
      "True\n"
     ]
    }
   ],
   "source": [
    "# Equal (==)\n",
    "\n",
    "x = 7\n",
    "y = 7\n",
    "print(x==y)"
   ]
  },
  {
   "cell_type": "code",
   "execution_count": 7,
   "id": "268edfec",
   "metadata": {},
   "outputs": [
    {
     "name": "stdout",
     "output_type": "stream",
     "text": [
      "True\n"
     ]
    }
   ],
   "source": [
    "# Not Equal (!=)\n",
    "x = 5\n",
    "y = 7\n",
    "print(x != y)"
   ]
  },
  {
   "cell_type": "code",
   "execution_count": 8,
   "id": "41c801e9",
   "metadata": {},
   "outputs": [
    {
     "name": "stdout",
     "output_type": "stream",
     "text": [
      "False\n"
     ]
    }
   ],
   "source": [
    "print(x == y)"
   ]
  },
  {
   "cell_type": "code",
   "execution_count": 9,
   "id": "31e9f595",
   "metadata": {},
   "outputs": [
    {
     "name": "stdout",
     "output_type": "stream",
     "text": [
      "True\n"
     ]
    }
   ],
   "source": [
    "# Greater than (>)---------->\n",
    "\n",
    "x = 5\n",
    "y = 3\n",
    "print(x > y)"
   ]
  },
  {
   "cell_type": "code",
   "execution_count": 10,
   "id": "ecc8f6df",
   "metadata": {},
   "outputs": [
    {
     "name": "stdout",
     "output_type": "stream",
     "text": [
      "False\n"
     ]
    }
   ],
   "source": [
    "# Less than (<)--------->\n",
    "\n",
    "print(x<y)"
   ]
  },
  {
   "cell_type": "code",
   "execution_count": 11,
   "id": "5fd1fadb",
   "metadata": {},
   "outputs": [
    {
     "name": "stdout",
     "output_type": "stream",
     "text": [
      "True\n"
     ]
    }
   ],
   "source": [
    "x = 45\n",
    "y = 67\n",
    "print(x<y)"
   ]
  },
  {
   "cell_type": "code",
   "execution_count": 12,
   "id": "cb5f3a24",
   "metadata": {},
   "outputs": [
    {
     "name": "stdout",
     "output_type": "stream",
     "text": [
      "True\n"
     ]
    }
   ],
   "source": [
    "# Greater than or equal to\n",
    "x = 45\n",
    "y = 45\n",
    "print(x >= y)"
   ]
  },
  {
   "cell_type": "code",
   "execution_count": 13,
   "id": "3ba90574",
   "metadata": {},
   "outputs": [
    {
     "name": "stdout",
     "output_type": "stream",
     "text": [
      "True\n"
     ]
    }
   ],
   "source": [
    "x = 43\n",
    "y = 32\n",
    "print(x >= y)"
   ]
  },
  {
   "cell_type": "code",
   "execution_count": 14,
   "id": "85c413e6",
   "metadata": {},
   "outputs": [
    {
     "name": "stdout",
     "output_type": "stream",
     "text": [
      "False\n"
     ]
    }
   ],
   "source": [
    "x = 2\n",
    "y = 3\n",
    "print(x >= y)"
   ]
  },
  {
   "cell_type": "code",
   "execution_count": 15,
   "id": "56f3a6f4",
   "metadata": {},
   "outputs": [
    {
     "name": "stdout",
     "output_type": "stream",
     "text": [
      "True\n"
     ]
    }
   ],
   "source": [
    "# Less than or equal to\n",
    "\n",
    "print(x <= y)"
   ]
  },
  {
   "cell_type": "code",
   "execution_count": 17,
   "id": "b6f0baaa",
   "metadata": {},
   "outputs": [
    {
     "name": "stdout",
     "output_type": "stream",
     "text": [
      "False\n"
     ]
    }
   ],
   "source": [
    "x = 14\n",
    "y = 6\n",
    "print(x <= y)"
   ]
  },
  {
   "cell_type": "code",
   "execution_count": 18,
   "id": "98b3d450",
   "metadata": {},
   "outputs": [
    {
     "name": "stdout",
     "output_type": "stream",
     "text": [
      "True\n"
     ]
    }
   ],
   "source": [
    "x = 9\n",
    "y = 9\n",
    "print(x <= y)"
   ]
  },
  {
   "cell_type": "markdown",
   "id": "060a88fe",
   "metadata": {},
   "source": [
    "# Logical Operators:-"
   ]
  },
  {
   "cell_type": "code",
   "execution_count": 19,
   "id": "37d9d6fa",
   "metadata": {},
   "outputs": [
    {
     "name": "stdout",
     "output_type": "stream",
     "text": [
      "True\n"
     ]
    }
   ],
   "source": [
    "# AND (and)----------->\n",
    "\n",
    "x = 10\n",
    "y = 28\n",
    "print(x == 10 and x < y)"
   ]
  },
  {
   "cell_type": "code",
   "execution_count": 20,
   "id": "a64cd404",
   "metadata": {},
   "outputs": [
    {
     "name": "stdout",
     "output_type": "stream",
     "text": [
      "False\n"
     ]
    }
   ],
   "source": [
    "print(x == 10 and x < y and x == y)"
   ]
  },
  {
   "cell_type": "code",
   "execution_count": 21,
   "id": "31fabf3c",
   "metadata": {},
   "outputs": [
    {
     "name": "stdout",
     "output_type": "stream",
     "text": [
      "True\n"
     ]
    }
   ],
   "source": [
    "# OR (or)---------->\n",
    "\n",
    "x = 20\n",
    "y = 34\n",
    "\n",
    "print( x == 20 or x < y or x == y)"
   ]
  },
  {
   "cell_type": "code",
   "execution_count": 22,
   "id": "74cca0bc",
   "metadata": {},
   "outputs": [
    {
     "name": "stdout",
     "output_type": "stream",
     "text": [
      "True\n"
     ]
    }
   ],
   "source": [
    "print(x != 10 or x < y or x == y)"
   ]
  },
  {
   "cell_type": "code",
   "execution_count": 28,
   "id": "69e4f80c",
   "metadata": {},
   "outputs": [
    {
     "name": "stdout",
     "output_type": "stream",
     "text": [
      "False\n"
     ]
    }
   ],
   "source": [
    "a = 45\n",
    "b = 34\n",
    "print(a != 45 or a < b or a == b)"
   ]
  },
  {
   "cell_type": "code",
   "execution_count": 29,
   "id": "40e6aecb",
   "metadata": {},
   "outputs": [
    {
     "name": "stdout",
     "output_type": "stream",
     "text": [
      "True\n"
     ]
    }
   ],
   "source": [
    "# NOT (not)----------->\n",
    "\n",
    "x = 20\n",
    "y = 23\n",
    "\n",
    "print(not x != 20)"
   ]
  },
  {
   "cell_type": "code",
   "execution_count": 31,
   "id": "9a90575c",
   "metadata": {},
   "outputs": [
    {
     "name": "stdout",
     "output_type": "stream",
     "text": [
      "False\n"
     ]
    }
   ],
   "source": [
    "print(not x == 20)"
   ]
  },
  {
   "cell_type": "markdown",
   "id": "86cc469b",
   "metadata": {},
   "source": [
    "# Membership Operators:-"
   ]
  },
  {
   "cell_type": "code",
   "execution_count": 32,
   "id": "f3abc5dd",
   "metadata": {},
   "outputs": [
    {
     "name": "stdout",
     "output_type": "stream",
     "text": [
      "True\n"
     ]
    }
   ],
   "source": [
    "# (in)----------->\n",
    "\n",
    "h1 = \"Hello\"\n",
    "print('H' in h1)"
   ]
  },
  {
   "cell_type": "code",
   "execution_count": 33,
   "id": "02c594c4",
   "metadata": {},
   "outputs": [
    {
     "name": "stdout",
     "output_type": "stream",
     "text": [
      "False\n"
     ]
    }
   ],
   "source": [
    "print('h' in h1)"
   ]
  },
  {
   "cell_type": "code",
   "execution_count": 34,
   "id": "ae660240",
   "metadata": {},
   "outputs": [
    {
     "name": "stdout",
     "output_type": "stream",
     "text": [
      "True\n"
     ]
    }
   ],
   "source": [
    "print('o' in h1)"
   ]
  },
  {
   "cell_type": "code",
   "execution_count": 35,
   "id": "6cc8845b",
   "metadata": {},
   "outputs": [
    {
     "name": "stdout",
     "output_type": "stream",
     "text": [
      "True\n"
     ]
    }
   ],
   "source": [
    "list = [3,5,7,\"python\",True]\n",
    "print(True in list)"
   ]
  },
  {
   "cell_type": "code",
   "execution_count": 36,
   "id": "5a0d6d17",
   "metadata": {},
   "outputs": [
    {
     "name": "stdout",
     "output_type": "stream",
     "text": [
      "False\n"
     ]
    }
   ],
   "source": [
    "print(45 in list)"
   ]
  },
  {
   "cell_type": "code",
   "execution_count": 37,
   "id": "1bc81dfd",
   "metadata": {},
   "outputs": [
    {
     "name": "stdout",
     "output_type": "stream",
     "text": [
      "True\n"
     ]
    }
   ],
   "source": [
    "# (not in)------------->\n",
    "print(45 not in list)"
   ]
  },
  {
   "cell_type": "code",
   "execution_count": 38,
   "id": "90e9f069",
   "metadata": {},
   "outputs": [
    {
     "name": "stdout",
     "output_type": "stream",
     "text": [
      "False\n"
     ]
    }
   ],
   "source": [
    "print(3 not in list)"
   ]
  },
  {
   "cell_type": "markdown",
   "id": "2d0a51f8",
   "metadata": {},
   "source": [
    "# Identity Operators:-"
   ]
  },
  {
   "cell_type": "code",
   "execution_count": 39,
   "id": "21171fc6",
   "metadata": {},
   "outputs": [
    {
     "name": "stdout",
     "output_type": "stream",
     "text": [
      "True True\n"
     ]
    }
   ],
   "source": [
    "# (is)------------>\n",
    "x = 10\n",
    "y = 10\n",
    "print(x is y, x == y)"
   ]
  },
  {
   "cell_type": "code",
   "execution_count": 40,
   "id": "b105a6f8",
   "metadata": {},
   "outputs": [
    {
     "name": "stdout",
     "output_type": "stream",
     "text": [
      "False False\n"
     ]
    }
   ],
   "source": [
    "# is not--------->\n",
    "\n",
    "print(x is not y, x!=y)"
   ]
  },
  {
   "cell_type": "code",
   "execution_count": 41,
   "id": "2b4ce297",
   "metadata": {},
   "outputs": [
    {
     "name": "stdout",
     "output_type": "stream",
     "text": [
      "True\n"
     ]
    }
   ],
   "source": [
    "x = 23\n",
    "y = 56\n",
    "print(x is not y)"
   ]
  },
  {
   "cell_type": "markdown",
   "id": "c0109206",
   "metadata": {},
   "source": [
    "# Bitiwise Operators:-"
   ]
  },
  {
   "cell_type": "code",
   "execution_count": 42,
   "id": "4dab4404",
   "metadata": {},
   "outputs": [
    {
     "name": "stdout",
     "output_type": "stream",
     "text": [
      "0b1010\n",
      "0b1000\n"
     ]
    }
   ],
   "source": [
    "# (&)-------->\n",
    "\n",
    "x = 10\n",
    "y = 8\n",
    "\n",
    "print(bin(x))\n",
    "print(bin(y))"
   ]
  },
  {
   "cell_type": "code",
   "execution_count": 43,
   "id": "79cae212",
   "metadata": {},
   "outputs": [
    {
     "name": "stdout",
     "output_type": "stream",
     "text": [
      "8 0b1000\n"
     ]
    }
   ],
   "source": [
    "print(x&y,bin(x&y))"
   ]
  },
  {
   "cell_type": "code",
   "execution_count": 44,
   "id": "3f7344e5",
   "metadata": {},
   "outputs": [
    {
     "name": "stdout",
     "output_type": "stream",
     "text": [
      "0b1010 10\n"
     ]
    }
   ],
   "source": [
    "# OR (|)------------->\n",
    "print(bin(x|y),x|y)"
   ]
  },
  {
   "cell_type": "code",
   "execution_count": 45,
   "id": "ce591c02",
   "metadata": {},
   "outputs": [
    {
     "name": "stdout",
     "output_type": "stream",
     "text": [
      "0b10 2\n"
     ]
    }
   ],
   "source": [
    "# XOR (^)---------------->\n",
    "\n",
    "print(bin(x^y),x^y)"
   ]
  },
  {
   "cell_type": "code",
   "execution_count": null,
   "id": "825e0285",
   "metadata": {},
   "outputs": [],
   "source": []
  }
 ],
 "metadata": {
  "kernelspec": {
   "display_name": "Python 3 (ipykernel)",
   "language": "python",
   "name": "python3"
  },
  "language_info": {
   "codemirror_mode": {
    "name": "ipython",
    "version": 3
   },
   "file_extension": ".py",
   "mimetype": "text/x-python",
   "name": "python",
   "nbconvert_exporter": "python",
   "pygments_lexer": "ipython3",
   "version": "3.11.1"
  }
 },
 "nbformat": 4,
 "nbformat_minor": 5
}
